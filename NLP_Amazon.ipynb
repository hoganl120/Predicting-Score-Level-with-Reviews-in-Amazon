{
 "cells": [
  {
   "cell_type": "markdown",
   "id": "f43f57b2",
   "metadata": {},
   "source": [
    "# Predicting Rating Levels Associated with User Reviews from Amazon Reviews"
   ]
  },
  {
   "attachments": {},
   "cell_type": "markdown",
   "id": "0dcf2790",
   "metadata": {},
   "source": [
    "Overview of the Process \n",
    "This study is to predict rating levels associated with user reviews from Amazon reviews. For the prediction through machine learning, a total of 518,430 labeled review were loaded from the Kaggle site and cleaned using the Natural Language Toolkit and regular expression modules. The cleaned data were vectorized using TF-IDF method and vectorized data were used to train and validate a total of 8 machine learning models: Multinomial Naïve Bayes, Extreme Gradient Boosting, Support Vector machine, Decision Tree, Random Forest, Multi-layer Perceptron, K-nearest neighbors, and Long short-term memory. The performance of the trained models was evaluated by four metrics (accuracy, precision, recall and F1), and the best performing model was selected to predict the rating level of the test data which included 5,000 reviews with no rating.  Additional data analyses were conducted to describe training data and summarize the results.\n",
    "\n",
    "\n"
   ]
  },
  {
   "cell_type": "markdown",
   "id": "edf476aa",
   "metadata": {},
   "source": [
    "# Data for Model Building and Validation"
   ]
  },
  {
   "cell_type": "code",
   "execution_count": 1,
   "id": "cf1481d0",
   "metadata": {},
   "outputs": [],
   "source": [
    "import wget"
   ]
  },
  {
   "cell_type": "code",
   "execution_count": 23,
   "id": "bbefc71e",
   "metadata": {},
   "outputs": [],
   "source": [
    "from wordcloud import WordCloud, STOPWORDS, ImageColorGenerator\n",
    "import pandas as pd\n",
    "import matplotlib.pyplot as plt\n",
    "import seaborn as sns\n",
    "%matplotlib inline\n",
    "import re, string\n",
    "import nltk\n",
    "from nltk.stem import WordNetLemmatizer\n",
    "from nltk.corpus import stopwords\n",
    "from nltk.tokenize import word_tokenize\n",
    "import ktrain\n",
    "from ktrain import text\n",
    "import cleantext\n",
    "from tensorflow.keras import layers\n",
    "import tensorflow as tf\n",
    "from tensorflow.keras.layers.experimental.preprocessing import TextVectorization\n",
    "from sklearn.feature_extraction.text import TfidfVectorizer\n",
    "from sklearn.naive_bayes import MultinomialNB\n",
    "from sklearn.pipeline import Pipeline\n",
    "import xgboost as xgb \n",
    "from sklearn import feature_extraction, linear_model, model_selection, preprocessing\n",
    "from sklearn.utils.deprecation import _raise_dep_warning_if_not_pytest\n",
    "\n",
    "import numpy as np\n"
   ]
  },
  {
   "cell_type": "code",
   "execution_count": 3,
   "id": "355758d1",
   "metadata": {},
   "outputs": [
    {
     "name": "stdout",
     "output_type": "stream",
     "text": [
      "\r",
      "  0% [                                                                              ]     0 / 10246\r",
      " 79% [..............................................................                ]  8192 / 10246\r",
      "100% [..............................................................................] 10246 / 10246"
     ]
    }
   ],
   "source": [
    "wget.download('https://raw.githubusercontent.com/mrdbourke/tensorflow-deep-learning/main/extras/helper_functions.py')\n",
    "\n",
    "from helper_functions import unzip_data, create_tensorboard_callback, plot_loss_curves, compare_historys"
   ]
  },
  {
   "cell_type": "code",
   "execution_count": 4,
   "id": "ac32c904",
   "metadata": {},
   "outputs": [
    {
     "name": "stdout",
     "output_type": "stream",
     "text": [
      "100% [............................................................................] 607343 / 607343"
     ]
    },
    {
     "data": {
      "text/plain": [
       "'nlp_getting_started (5).zip'"
      ]
     },
     "execution_count": 4,
     "metadata": {},
     "output_type": "execute_result"
    }
   ],
   "source": [
    "import wget\n",
    "\n",
    "url =\"https://storage.googleapis.com/ztm_tf_course/nlp_getting_started.zip\"\n",
    "wget.download(url)"
   ]
  },
  {
   "cell_type": "code",
   "execution_count": 5,
   "id": "2310a0c0",
   "metadata": {},
   "outputs": [],
   "source": [
    "from helper_functions import unzip_data, create_tensorboard_callback, plot_loss_curves, compare_historys\n",
    "# Unzip data\n",
    "unzip_data(\"nlp_getting_started.zip\")"
   ]
  },
  {
   "cell_type": "code",
   "execution_count": 6,
   "id": "3c08aff7",
   "metadata": {},
   "outputs": [
    {
     "data": {
      "text/html": [
       "<div>\n",
       "<style scoped>\n",
       "    .dataframe tbody tr th:only-of-type {\n",
       "        vertical-align: middle;\n",
       "    }\n",
       "\n",
       "    .dataframe tbody tr th {\n",
       "        vertical-align: top;\n",
       "    }\n",
       "\n",
       "    .dataframe thead th {\n",
       "        text-align: right;\n",
       "    }\n",
       "</style>\n",
       "<table border=\"1\" class=\"dataframe\">\n",
       "  <thead>\n",
       "    <tr style=\"text-align: right;\">\n",
       "      <th></th>\n",
       "      <th>reviewID</th>\n",
       "      <th>productID</th>\n",
       "      <th>userId</th>\n",
       "      <th>profileName</th>\n",
       "      <th>helpfulness</th>\n",
       "      <th>score_level</th>\n",
       "      <th>time</th>\n",
       "      <th>summary</th>\n",
       "      <th>text</th>\n",
       "    </tr>\n",
       "  </thead>\n",
       "  <tbody>\n",
       "    <tr>\n",
       "      <th>0</th>\n",
       "      <td>58757</td>\n",
       "      <td>B005P0NA7U</td>\n",
       "      <td>A3DWYS6US3PR2M</td>\n",
       "      <td>Liz,H \"Ann\"</td>\n",
       "      <td>0/0</td>\n",
       "      <td>high</td>\n",
       "      <td>1310688000</td>\n",
       "      <td>great ! !</td>\n",
       "      <td>i used this product on my face along with alba...</td>\n",
       "    </tr>\n",
       "    <tr>\n",
       "      <th>1</th>\n",
       "      <td>467637</td>\n",
       "      <td>B007PEQKXA</td>\n",
       "      <td>A2LXGRL0OZJN7H</td>\n",
       "      <td>Larry L. Hassenpflug II</td>\n",
       "      <td>1/1</td>\n",
       "      <td>high</td>\n",
       "      <td>1291852800</td>\n",
       "      <td>Very impressed</td>\n",
       "      <td>I ordered a one pound package for my Dad this ...</td>\n",
       "    </tr>\n",
       "    <tr>\n",
       "      <th>2</th>\n",
       "      <td>70899</td>\n",
       "      <td>B00451U9Q0</td>\n",
       "      <td>A2P6UN9OMVB2NF</td>\n",
       "      <td>Larry Harrington</td>\n",
       "      <td>1/2</td>\n",
       "      <td>high</td>\n",
       "      <td>1321488000</td>\n",
       "      <td>Fellow ship</td>\n",
       "      <td>I am the setup person in my church, for mornin...</td>\n",
       "    </tr>\n",
       "    <tr>\n",
       "      <th>3</th>\n",
       "      <td>500052</td>\n",
       "      <td>B001CU0N4A</td>\n",
       "      <td>A2U58C5IL0TCN4</td>\n",
       "      <td>S. Rose</td>\n",
       "      <td>5/8</td>\n",
       "      <td>medium</td>\n",
       "      <td>1297900800</td>\n",
       "      <td>Tasty but why dairy?</td>\n",
       "      <td>Looking for low carb snacks without dairy or e...</td>\n",
       "    </tr>\n",
       "    <tr>\n",
       "      <th>4</th>\n",
       "      <td>451159</td>\n",
       "      <td>B008JELG8E</td>\n",
       "      <td>AYZQ9TOYTTH0L</td>\n",
       "      <td>tyreman</td>\n",
       "      <td>0/0</td>\n",
       "      <td>high</td>\n",
       "      <td>1350691200</td>\n",
       "      <td>Tasty</td>\n",
       "      <td>I am a long time diabetic and always looking f...</td>\n",
       "    </tr>\n",
       "  </tbody>\n",
       "</table>\n",
       "</div>"
      ],
      "text/plain": [
       "   reviewID   productID          userId              profileName helpfulness  \\\n",
       "0     58757  B005P0NA7U  A3DWYS6US3PR2M              Liz,H \"Ann\"         0/0   \n",
       "1    467637  B007PEQKXA  A2LXGRL0OZJN7H  Larry L. Hassenpflug II         1/1   \n",
       "2     70899  B00451U9Q0  A2P6UN9OMVB2NF         Larry Harrington         1/2   \n",
       "3    500052  B001CU0N4A  A2U58C5IL0TCN4                  S. Rose         5/8   \n",
       "4    451159  B008JELG8E   AYZQ9TOYTTH0L                  tyreman         0/0   \n",
       "\n",
       "  score_level        time               summary  \\\n",
       "0        high  1310688000             great ! !   \n",
       "1        high  1291852800        Very impressed   \n",
       "2        high  1321488000           Fellow ship   \n",
       "3      medium  1297900800  Tasty but why dairy?   \n",
       "4        high  1350691200                 Tasty   \n",
       "\n",
       "                                                text  \n",
       "0  i used this product on my face along with alba...  \n",
       "1  I ordered a one pound package for my Dad this ...  \n",
       "2  I am the setup person in my church, for mornin...  \n",
       "3  Looking for low carb snacks without dairy or e...  \n",
       "4  I am a long time diabetic and always looking f...  "
      ]
     },
     "execution_count": 6,
     "metadata": {},
     "output_type": "execute_result"
    }
   ],
   "source": [
    "#data read\n",
    "\n",
    "import pandas as pd\n",
    "train_df = pd.read_csv(\"C:/Users/jelee/MIS/foods_training.csv\",  sep=\"|\", encoding = \"ISO-8859-1\")\n",
    "train_df.head()"
   ]
  },
  {
   "cell_type": "code",
   "execution_count": 8,
   "id": "ab80a905",
   "metadata": {
    "scrolled": true
   },
   "outputs": [
    {
     "name": "stdout",
     "output_type": "stream",
     "text": [
      "<class 'pandas.core.frame.DataFrame'>\n",
      "RangeIndex: 518430 entries, 0 to 518429\n",
      "Data columns (total 9 columns):\n",
      " #   Column       Non-Null Count   Dtype \n",
      "---  ------       --------------   ----- \n",
      " 0   reviewID     518430 non-null  int64 \n",
      " 1   productID    518430 non-null  object\n",
      " 2   userId       518430 non-null  object\n",
      " 3   profileName  518415 non-null  object\n",
      " 4   helpfulness  518430 non-null  object\n",
      " 5   score_level  518430 non-null  object\n",
      " 6   time         518430 non-null  int64 \n",
      " 7   summary      518408 non-null  object\n",
      " 8   text         518430 non-null  object\n",
      "dtypes: int64(2), object(7)\n",
      "memory usage: 35.6+ MB\n"
     ]
    }
   ],
   "source": [
    "train_df.info()"
   ]
  },
  {
   "cell_type": "code",
   "execution_count": 4,
   "id": "82e9ff02",
   "metadata": {},
   "outputs": [
    {
     "data": {
      "text/plain": [
       "reviewID        0\n",
       "productID       0\n",
       "userId          0\n",
       "profileName    15\n",
       "helpfulness     0\n",
       "score_level     0\n",
       "time            0\n",
       "summary        22\n",
       "text            0\n",
       "dtype: int64"
      ]
     },
     "execution_count": 4,
     "metadata": {},
     "output_type": "execute_result"
    }
   ],
   "source": [
    "train_df.isna().sum()"
   ]
  },
  {
   "cell_type": "code",
   "execution_count": 5,
   "id": "d96f154e",
   "metadata": {
    "scrolled": true
   },
   "outputs": [
    {
     "data": {
      "text/plain": [
       "high      404594\n",
       "low        74942\n",
       "medium     38894\n",
       "Name: score_level, dtype: int64"
      ]
     },
     "execution_count": 5,
     "metadata": {},
     "output_type": "execute_result"
    }
   ],
   "source": [
    "train_df[\"score_level\"].value_counts()"
   ]
  },
  {
   "cell_type": "code",
   "execution_count": 7,
   "id": "1e198cb6",
   "metadata": {},
   "outputs": [
    {
     "name": "stderr",
     "output_type": "stream",
     "text": [
      "[nltk_data] Downloading package stopwords to\n",
      "[nltk_data]     C:\\Users\\jelee\\AppData\\Roaming\\nltk_data...\n",
      "[nltk_data]   Package stopwords is already up-to-date!\n",
      "[nltk_data] Downloading package punkt to\n",
      "[nltk_data]     C:\\Users\\jelee\\AppData\\Roaming\\nltk_data...\n",
      "[nltk_data]   Package punkt is already up-to-date!\n",
      "[nltk_data] Downloading package wordnet to\n",
      "[nltk_data]     C:\\Users\\jelee\\AppData\\Roaming\\nltk_data...\n",
      "[nltk_data]   Package wordnet is already up-to-date!\n"
     ]
    }
   ],
   "source": [
    "##Data cleaning\n",
    "\n",
    "\n",
    "import re, string\n",
    "import nltk\n",
    "from nltk.stem import WordNetLemmatizer\n",
    "from nltk.corpus import stopwords\n",
    "from nltk.tokenize import word_tokenize\n",
    "\n",
    "\n",
    "nltk.download('stopwords')\n",
    "nltk.download('punkt')\n",
    "nltk.download('wordnet')\n",
    "stop_words = set(stopwords.words('english'))\n",
    "\n",
    "def clean_text(text):\n",
    "    # miniscule\n",
    "    text = text.lower()\n",
    "    \n",
    "    #remove emoji\n",
    "    text = text.encode(\"ascii\", \"ignore\").decode()\n",
    "    \n",
    "    # removing usernames\n",
    "    text = re.sub('@[^\\s]+', '', text)\n",
    "\n",
    "    # removing links\n",
    "    text = re.sub('((https?://[^\\s]+)|(www\\.[^\\s]+))','',text)\n",
    "    \n",
    "        # removing rt\n",
    "    text = re.sub('rt','',text)\n",
    "    \n",
    "    # removing punctuation\n",
    "    text = text.translate(str.maketrans('','',string.punctuation))\n",
    "    \n",
    "    # tokenization\n",
    "    tokens = word_tokenize(text)\n",
    "   \n",
    "    # suppression of stop words and lemmatization\n",
    "    wordLemm = WordNetLemmatizer()\n",
    "    final_words = []\n",
    "    for token in tokens:\n",
    "      # suppression of stop words\n",
    "      if token not in stop_words and len(token) > 1:\n",
    "        lemm = wordLemm.lemmatize(token)\n",
    "        final_words.append(lemm)\n",
    "    return ' '.join(final_words)"
   ]
  },
  {
   "cell_type": "code",
   "execution_count": 8,
   "id": "050dd5c8",
   "metadata": {},
   "outputs": [],
   "source": [
    "train_df['cleantext'] = train_df.text.apply(clean_text)"
   ]
  },
  {
   "cell_type": "code",
   "execution_count": 9,
   "id": "46e6e057",
   "metadata": {
    "scrolled": true
   },
   "outputs": [
    {
     "data": {
      "text/html": [
       "<div>\n",
       "<style scoped>\n",
       "    .dataframe tbody tr th:only-of-type {\n",
       "        vertical-align: middle;\n",
       "    }\n",
       "\n",
       "    .dataframe tbody tr th {\n",
       "        vertical-align: top;\n",
       "    }\n",
       "\n",
       "    .dataframe thead th {\n",
       "        text-align: right;\n",
       "    }\n",
       "</style>\n",
       "<table border=\"1\" class=\"dataframe\">\n",
       "  <thead>\n",
       "    <tr style=\"text-align: right;\">\n",
       "      <th></th>\n",
       "      <th>reviewID</th>\n",
       "      <th>productID</th>\n",
       "      <th>userId</th>\n",
       "      <th>profileName</th>\n",
       "      <th>helpfulness</th>\n",
       "      <th>score_level</th>\n",
       "      <th>time</th>\n",
       "      <th>summary</th>\n",
       "      <th>text</th>\n",
       "      <th>cleantext</th>\n",
       "    </tr>\n",
       "  </thead>\n",
       "  <tbody>\n",
       "    <tr>\n",
       "      <th>0</th>\n",
       "      <td>58757</td>\n",
       "      <td>B005P0NA7U</td>\n",
       "      <td>A3DWYS6US3PR2M</td>\n",
       "      <td>Liz,H \"Ann\"</td>\n",
       "      <td>0/0</td>\n",
       "      <td>high</td>\n",
       "      <td>1310688000</td>\n",
       "      <td>great ! !</td>\n",
       "      <td>i used this product on my face along with alba...</td>\n",
       "      <td>used product face along alba papaya facial mas...</td>\n",
       "    </tr>\n",
       "    <tr>\n",
       "      <th>1</th>\n",
       "      <td>467637</td>\n",
       "      <td>B007PEQKXA</td>\n",
       "      <td>A2LXGRL0OZJN7H</td>\n",
       "      <td>Larry L. Hassenpflug II</td>\n",
       "      <td>1/1</td>\n",
       "      <td>high</td>\n",
       "      <td>1291852800</td>\n",
       "      <td>Very impressed</td>\n",
       "      <td>I ordered a one pound package for my Dad this ...</td>\n",
       "      <td>ordered one pound package dad christmas cant r...</td>\n",
       "    </tr>\n",
       "    <tr>\n",
       "      <th>2</th>\n",
       "      <td>70899</td>\n",
       "      <td>B00451U9Q0</td>\n",
       "      <td>A2P6UN9OMVB2NF</td>\n",
       "      <td>Larry Harrington</td>\n",
       "      <td>1/2</td>\n",
       "      <td>high</td>\n",
       "      <td>1321488000</td>\n",
       "      <td>Fellow ship</td>\n",
       "      <td>I am the setup person in my church, for mornin...</td>\n",
       "      <td>setup person church morning coffee thing churc...</td>\n",
       "    </tr>\n",
       "    <tr>\n",
       "      <th>3</th>\n",
       "      <td>500052</td>\n",
       "      <td>B001CU0N4A</td>\n",
       "      <td>A2U58C5IL0TCN4</td>\n",
       "      <td>S. Rose</td>\n",
       "      <td>5/8</td>\n",
       "      <td>medium</td>\n",
       "      <td>1297900800</td>\n",
       "      <td>Tasty but why dairy?</td>\n",
       "      <td>Looking for low carb snacks without dairy or e...</td>\n",
       "      <td>looking low carb snack without dairy egg aller...</td>\n",
       "    </tr>\n",
       "    <tr>\n",
       "      <th>4</th>\n",
       "      <td>451159</td>\n",
       "      <td>B008JELG8E</td>\n",
       "      <td>AYZQ9TOYTTH0L</td>\n",
       "      <td>tyreman</td>\n",
       "      <td>0/0</td>\n",
       "      <td>high</td>\n",
       "      <td>1350691200</td>\n",
       "      <td>Tasty</td>\n",
       "      <td>I am a long time diabetic and always looking f...</td>\n",
       "      <td>long time diabetic always looking sweet treat ...</td>\n",
       "    </tr>\n",
       "    <tr>\n",
       "      <th>...</th>\n",
       "      <td>...</td>\n",
       "      <td>...</td>\n",
       "      <td>...</td>\n",
       "      <td>...</td>\n",
       "      <td>...</td>\n",
       "      <td>...</td>\n",
       "      <td>...</td>\n",
       "      <td>...</td>\n",
       "      <td>...</td>\n",
       "      <td>...</td>\n",
       "    </tr>\n",
       "    <tr>\n",
       "      <th>518425</th>\n",
       "      <td>469934</td>\n",
       "      <td>B001E5E3XU</td>\n",
       "      <td>AEYYJWN7ZWN0Z</td>\n",
       "      <td>Mary Alice Mcconnell</td>\n",
       "      <td>3/3</td>\n",
       "      <td>high</td>\n",
       "      <td>1261785600</td>\n",
       "      <td>Coleman's Mustard - when you want the very best!</td>\n",
       "      <td>This is the best mustard, we always had it gro...</td>\n",
       "      <td>best mustard always growing ireland hard find ...</td>\n",
       "    </tr>\n",
       "    <tr>\n",
       "      <th>518426</th>\n",
       "      <td>448858</td>\n",
       "      <td>B002ZOG2B0</td>\n",
       "      <td>A2D4VH1GILGTDT</td>\n",
       "      <td>Swamp Wizard</td>\n",
       "      <td>4/4</td>\n",
       "      <td>high</td>\n",
       "      <td>1317513600</td>\n",
       "      <td>Swamp Wizard</td>\n",
       "      <td>Hazelnut 8 O'clock coffee is very fresh and ta...</td>\n",
       "      <td>hazelnut oclock coffee fresh tasty price great...</td>\n",
       "    </tr>\n",
       "    <tr>\n",
       "      <th>518427</th>\n",
       "      <td>43039</td>\n",
       "      <td>B000Z95UME</td>\n",
       "      <td>A397TLU6QL8S9Q</td>\n",
       "      <td>Donna Tokunaga \"Moonrise\"</td>\n",
       "      <td>0/0</td>\n",
       "      <td>high</td>\n",
       "      <td>1284768000</td>\n",
       "      <td>Best tasting Earl Grey tea</td>\n",
       "      <td>I first had this tea in a small restaurant in ...</td>\n",
       "      <td>first tea small restaurant ashland marveled fl...</td>\n",
       "    </tr>\n",
       "    <tr>\n",
       "      <th>518428</th>\n",
       "      <td>88158</td>\n",
       "      <td>B0030VBQOK</td>\n",
       "      <td>A1WV31UF6HVC9W</td>\n",
       "      <td>JMom</td>\n",
       "      <td>0/0</td>\n",
       "      <td>high</td>\n",
       "      <td>1334016000</td>\n",
       "      <td>Daughter loves them</td>\n",
       "      <td>My daughter is 22 months old and can finish of...</td>\n",
       "      <td>daughter 22 month old finish pouch le 30 secon...</td>\n",
       "    </tr>\n",
       "    <tr>\n",
       "      <th>518429</th>\n",
       "      <td>454544</td>\n",
       "      <td>B000ES6Z48</td>\n",
       "      <td>AF0WQE03DJNF8</td>\n",
       "      <td>A. Grimm</td>\n",
       "      <td>0/0</td>\n",
       "      <td>high</td>\n",
       "      <td>1312416000</td>\n",
       "      <td>Great taste</td>\n",
       "      <td>This tea is making it's rounds with my group o...</td>\n",
       "      <td>tea making round group friend tried baby showe...</td>\n",
       "    </tr>\n",
       "  </tbody>\n",
       "</table>\n",
       "<p>518430 rows × 10 columns</p>\n",
       "</div>"
      ],
      "text/plain": [
       "        reviewID   productID          userId                profileName  \\\n",
       "0          58757  B005P0NA7U  A3DWYS6US3PR2M                Liz,H \"Ann\"   \n",
       "1         467637  B007PEQKXA  A2LXGRL0OZJN7H    Larry L. Hassenpflug II   \n",
       "2          70899  B00451U9Q0  A2P6UN9OMVB2NF           Larry Harrington   \n",
       "3         500052  B001CU0N4A  A2U58C5IL0TCN4                    S. Rose   \n",
       "4         451159  B008JELG8E   AYZQ9TOYTTH0L                    tyreman   \n",
       "...          ...         ...             ...                        ...   \n",
       "518425    469934  B001E5E3XU   AEYYJWN7ZWN0Z       Mary Alice Mcconnell   \n",
       "518426    448858  B002ZOG2B0  A2D4VH1GILGTDT               Swamp Wizard   \n",
       "518427     43039  B000Z95UME  A397TLU6QL8S9Q  Donna Tokunaga \"Moonrise\"   \n",
       "518428     88158  B0030VBQOK  A1WV31UF6HVC9W                       JMom   \n",
       "518429    454544  B000ES6Z48   AF0WQE03DJNF8                   A. Grimm   \n",
       "\n",
       "       helpfulness score_level        time  \\\n",
       "0              0/0        high  1310688000   \n",
       "1              1/1        high  1291852800   \n",
       "2              1/2        high  1321488000   \n",
       "3              5/8      medium  1297900800   \n",
       "4              0/0        high  1350691200   \n",
       "...            ...         ...         ...   \n",
       "518425         3/3        high  1261785600   \n",
       "518426         4/4        high  1317513600   \n",
       "518427         0/0        high  1284768000   \n",
       "518428         0/0        high  1334016000   \n",
       "518429         0/0        high  1312416000   \n",
       "\n",
       "                                                 summary  \\\n",
       "0                                              great ! !   \n",
       "1                                         Very impressed   \n",
       "2                                            Fellow ship   \n",
       "3                                   Tasty but why dairy?   \n",
       "4                                                  Tasty   \n",
       "...                                                  ...   \n",
       "518425  Coleman's Mustard - when you want the very best!   \n",
       "518426                                      Swamp Wizard   \n",
       "518427                        Best tasting Earl Grey tea   \n",
       "518428                               Daughter loves them   \n",
       "518429                                       Great taste   \n",
       "\n",
       "                                                     text  \\\n",
       "0       i used this product on my face along with alba...   \n",
       "1       I ordered a one pound package for my Dad this ...   \n",
       "2       I am the setup person in my church, for mornin...   \n",
       "3       Looking for low carb snacks without dairy or e...   \n",
       "4       I am a long time diabetic and always looking f...   \n",
       "...                                                   ...   \n",
       "518425  This is the best mustard, we always had it gro...   \n",
       "518426  Hazelnut 8 O'clock coffee is very fresh and ta...   \n",
       "518427  I first had this tea in a small restaurant in ...   \n",
       "518428  My daughter is 22 months old and can finish of...   \n",
       "518429  This tea is making it's rounds with my group o...   \n",
       "\n",
       "                                                cleantext  \n",
       "0       used product face along alba papaya facial mas...  \n",
       "1       ordered one pound package dad christmas cant r...  \n",
       "2       setup person church morning coffee thing churc...  \n",
       "3       looking low carb snack without dairy egg aller...  \n",
       "4       long time diabetic always looking sweet treat ...  \n",
       "...                                                   ...  \n",
       "518425  best mustard always growing ireland hard find ...  \n",
       "518426  hazelnut oclock coffee fresh tasty price great...  \n",
       "518427  first tea small restaurant ashland marveled fl...  \n",
       "518428  daughter 22 month old finish pouch le 30 secon...  \n",
       "518429  tea making round group friend tried baby showe...  \n",
       "\n",
       "[518430 rows x 10 columns]"
      ]
     },
     "execution_count": 9,
     "metadata": {},
     "output_type": "execute_result"
    }
   ],
   "source": [
    "train_df=train_df.dropna(subset=[\"score_level\"])\n",
    "train_df"
   ]
  },
  {
   "cell_type": "code",
   "execution_count": 68,
   "id": "565fd828",
   "metadata": {},
   "outputs": [
    {
     "name": "stdout",
     "output_type": "stream",
     "text": [
      "score_level\n",
      "high      254.810440\n",
      "low       292.167356\n",
      "medium    314.116676\n",
      "Name: len, dtype: float64\n",
      "score_level\n",
      "high      266.385073\n",
      "low       309.077329\n",
      "medium    320.556312\n",
      "Name: len, dtype: float64\n"
     ]
    }
   ],
   "source": [
    "# text length by score level\n",
    "train_df['len']=train_df['cleantext'].str.len()\n",
    "print(train_df.groupby('score_level')['len'].mean())\n",
    "print(train_df.groupby('score_level')['len'].std())"
   ]
  },
  {
   "cell_type": "code",
   "execution_count": 38,
   "id": "e2b88e60",
   "metadata": {},
   "outputs": [
    {
     "data": {
      "image/png": "[encoded data removed]",
      "text/plain": [
       "<Figure size 576x576 with 1 Axes>"
      ]
     },
     "metadata": {
      "needs_background": "light"
     },
     "output_type": "display_data"
    }
   ],
   "source": [
    "from wordcloud import WordCloud, STOPWORDS, ImageColorGenerator\n",
    "\n",
    "comment_words0 = ''\n",
    "\n",
    "\n",
    "for val in train_df[(train_df['score_level']=='high')].cleantext:\n",
    "     \n",
    "    # typecaste each val to string\n",
    "    val = str(val)\n",
    " \n",
    "    # split the value\n",
    "    tokens = val.split()\n",
    "     \n",
    "    # Converts each token into lowercase\n",
    "    for i in range(len(tokens)):\n",
    "        tokens[i] = tokens[i].lower()\n",
    "     \n",
    "    comment_words0 += \" \".join(tokens)+\" \"\n",
    " \n",
    "wordcloud0 = WordCloud(width = 800, height = 800,\n",
    "                background_color ='white',\n",
    "                max_words=200,\n",
    "                min_font_size = 10).generate(comment_words0)\n",
    " \n",
    "# plot the WordCloud image                      \n",
    "plt.figure(figsize = (8, 8), facecolor = None)\n",
    "plt.imshow(wordcloud0, interpolation=\"nearest\") #, interpolation=\"nearest\",\n",
    "plt.axis(\"off\")\n",
    "plt.tight_layout(pad = 0)\n",
    " \n",
    "plt.show()"
   ]
  },
  {
   "cell_type": "code",
   "execution_count": 10,
   "id": "4ad83810",
   "metadata": {},
   "outputs": [],
   "source": [
    "from sklearn.model_selection import train_test_split\n",
    "\n",
    "# Use train_test_split to split training data into training and validation sets\n",
    "train_sentences, val_sentences, train_labels, val_labels = train_test_split(train_df[\"cleantext\"].to_numpy(),\n",
    "                                                                            train_df[\"score_level\"].to_numpy(),\n",
    "                                                                            test_size=0.1, # dedicate 10% of samples to validation set\n",
    "                                                                            random_state=42) # random state for reproducibility"
   ]
  },
  {
   "cell_type": "code",
   "execution_count": 11,
   "id": "8e7074ba",
   "metadata": {},
   "outputs": [
    {
     "data": {
      "text/plain": [
       "(466587, 466587, 51843, 51843)"
      ]
     },
     "execution_count": 11,
     "metadata": {},
     "output_type": "execute_result"
    }
   ],
   "source": [
    "# Check the lengths\n",
    "len(train_sentences), len(train_labels), len(val_sentences), len(val_labels)"
   ]
  },
  {
   "cell_type": "code",
   "execution_count": 33,
   "id": "526e3a73",
   "metadata": {},
   "outputs": [],
   "source": [
    "import tensorflow as tf\n",
    "from tensorflow.keras.layers.experimental.preprocessing import TextVectorization\n",
    "# Note: in TensorFlow 2.6+, you no longer need \"layers.experimental.preprocessing\"\n",
    "# you can use: \"tf.keras.layers.TextVectorization\", see https://github.com/tensorflow/tensorflow/releases/tag/v2.6.0 for more\n",
    "\n",
    "# Setup text vectorization with custom variables\n",
    "max_vocab_length = 10000 # max number of words to have in our vocabulary\n",
    "max_length = 15 # max length our sequences will be (e.g. how many words from a Tweet does our model see?)\n",
    "\n",
    "text_vectorizer = TextVectorization(max_tokens=max_vocab_length,\n",
    "                                    output_mode=\"int\",\n",
    "                                    output_sequence_length=max_length)"
   ]
  },
  {
   "cell_type": "code",
   "execution_count": 34,
   "id": "6002ec4d",
   "metadata": {},
   "outputs": [],
   "source": [
    "# Fit the text vectorizer to the training text\n",
    "text_vectorizer.adapt(train_sentences)"
   ]
  },
  {
   "cell_type": "code",
   "execution_count": 14,
   "id": "7ae939f3",
   "metadata": {},
   "outputs": [
    {
     "data": {
      "text/plain": [
       "<keras.layers.embeddings.Embedding at 0x189de578bb0>"
      ]
     },
     "execution_count": 14,
     "metadata": {},
     "output_type": "execute_result"
    }
   ],
   "source": [
    "tf.random.set_seed(42)\n",
    "from tensorflow.keras import layers\n",
    "\n",
    "embedding = layers.Embedding(input_dim=max_vocab_length, # set input shape\n",
    "                             output_dim=128, # set size of embedding vector\n",
    "                             embeddings_initializer=\"uniform\", # default, intialize randomly\n",
    "                             input_length=max_length, # how long is each input\n",
    "                             name=\"embedding_1\") \n",
    "\n",
    "embedding"
   ]
  },
  {
   "cell_type": "markdown",
   "id": "7431c911",
   "metadata": {},
   "source": [
    "# Model0: MultinomialNB"
   ]
  },
  {
   "cell_type": "code",
   "execution_count": 20,
   "id": "5e59be95",
   "metadata": {},
   "outputs": [
    {
     "data": {
      "text/plain": [
       "Pipeline(steps=[('tfidf', TfidfVectorizer()), ('clf', MultinomialNB())])"
      ]
     },
     "execution_count": 20,
     "metadata": {},
     "output_type": "execute_result"
    }
   ],
   "source": [
    "from sklearn.feature_extraction.text import TfidfVectorizer\n",
    "from sklearn.naive_bayes import MultinomialNB\n",
    "from sklearn.pipeline import Pipeline\n",
    "\n",
    "# Create tokenization and modelling pipeline\n",
    "model_0 = Pipeline([\n",
    "                    (\"tfidf\", TfidfVectorizer()), # convert words to numbers using tfidf\n",
    "                    (\"clf\", MultinomialNB()) # model the text\n",
    "])\n",
    "\n",
    "# Fit the pipeline to the training data\n",
    "model_0.fit(train_sentences, train_labels)"
   ]
  },
  {
   "cell_type": "code",
   "execution_count": 21,
   "id": "1b1893fc",
   "metadata": {},
   "outputs": [
    {
     "data": {
      "text/plain": [
       "array(['high', 'high', 'high', 'high', 'high', 'high', 'high', 'high',\n",
       "       'high', 'high', 'high', 'high', 'high', 'high', 'high', 'high',\n",
       "       'high', 'high', 'high', 'high'], dtype='<U6')"
      ]
     },
     "execution_count": 21,
     "metadata": {},
     "output_type": "execute_result"
    }
   ],
   "source": [
    "# Make predictions\n",
    "baseline_preds = model_0.predict(val_sentences)\n",
    "baseline_preds[:20]"
   ]
  },
  {
   "cell_type": "code",
   "execution_count": 18,
   "id": "a988d44b",
   "metadata": {},
   "outputs": [],
   "source": [
    "# Function to evaluate: accuracy, precision, recall, f1-score\n",
    "from sklearn.metrics import accuracy_score, precision_recall_fscore_support\n",
    "\n",
    "def calculate_results(y_true, y_pred):\n",
    "  \"\"\"\n",
    "  Calculates model accuracy, precision, recall and f1 score of a binary classification model.\n",
    "\n",
    "  Args:\n",
    "  -----\n",
    "  y_true = true labels in the form of a 1D array\n",
    "  y_pred = predicted labels in the form of a 1D array\n",
    "\n",
    "  Returns a dictionary of accuracy, precision, recall, f1-score.\n",
    "  \"\"\"\n",
    "  # Calculate model accuracy\n",
    "  model_accuracy = accuracy_score(y_true, y_pred) * 100\n",
    "  # Calculate model precision, recall and f1 score using \"weighted\" average\n",
    "  model_precision, model_recall, model_f1, _ = precision_recall_fscore_support(y_true, y_pred, average=\"weighted\")\n",
    "  model_results = {\"accuracy\": model_accuracy,\n",
    "                  \"precision\": model_precision,\n",
    "                  \"recall\": model_recall,\n",
    "                  \"f1\": model_f1}\n",
    "  return model_results"
   ]
  },
  {
   "cell_type": "code",
   "execution_count": 23,
   "id": "a094d4fb",
   "metadata": {},
   "outputs": [
    {
     "data": {
      "text/plain": [
       "{'accuracy': 79.28360627278514,\n",
       " 'precision': 0.8205062271380987,\n",
       " 'recall': 0.7928360627278513,\n",
       " 'f1': 0.712309221853785}"
      ]
     },
     "execution_count": 23,
     "metadata": {},
     "output_type": "execute_result"
    }
   ],
   "source": [
    "# Get baseline results\n",
    "baseline_results = calculate_results(y_true=val_labels,\n",
    "                                     y_pred=baseline_preds)\n",
    "baseline_results"
   ]
  },
  {
   "cell_type": "markdown",
   "id": "53b8cb86",
   "metadata": {},
   "source": [
    "# Model_0_1:XGBoost"
   ]
  },
  {
   "cell_type": "code",
   "execution_count": 24,
   "id": "1dc2a80e",
   "metadata": {},
   "outputs": [
    {
     "name": "stderr",
     "output_type": "stream",
     "text": [
      "D:\\Anaconda3\\lib\\site-packages\\xgboost\\sklearn.py:1146: UserWarning: The use of label encoder in XGBClassifier is deprecated and will be removed in a future release. To remove this warning, do the following: 1) Pass option use_label_encoder=False when constructing XGBClassifier object; and 2) Encode your labels (y) as integers starting with 0, i.e. 0, 1, 2, ..., [num_class - 1].\n",
      "  warnings.warn(label_encoder_deprecation_msg, UserWarning)\n"
     ]
    },
    {
     "name": "stdout",
     "output_type": "stream",
     "text": [
      "[14:06:31] WARNING: C:/Users/Administrator/workspace/xgboost-win64_release_1.4.0/src/learner.cc:1095: Starting in XGBoost 1.3.0, the default evaluation metric used with the objective 'multi:softprob' was changed from 'merror' to 'mlogloss'. Explicitly set eval_metric if you'd like to restore the old behavior.\n"
     ]
    },
    {
     "data": {
      "text/plain": [
       "Pipeline(steps=[('tfidf', TfidfVectorizer()),\n",
       "                ('clf',\n",
       "                 XGBClassifier(base_score=0.5, booster='gbtree',\n",
       "                               colsample_bylevel=1, colsample_bynode=1,\n",
       "                               colsample_bytree=1, gamma=0, gpu_id=-1,\n",
       "                               importance_type='gain',\n",
       "                               interaction_constraints='',\n",
       "                               learning_rate=0.300000012, max_delta_step=0,\n",
       "                               max_depth=6, min_child_weight=1, missing=nan,\n",
       "                               monotone_constraints='()', n_estimators=100,\n",
       "                               n_jobs=4, num_parallel_tree=1,\n",
       "                               objective='multi:softprob', random_state=0,\n",
       "                               reg_alpha=0, reg_lambda=1, scale_pos_weight=None,\n",
       "                               subsample=1, tree_method='exact',\n",
       "                               validate_parameters=1, verbosity=None))])"
      ]
     },
     "execution_count": 24,
     "metadata": {},
     "output_type": "execute_result"
    }
   ],
   "source": [
    "import xgboost as xgb \n",
    "from sklearn.feature_extraction.text import TfidfVectorizer\n",
    "\n",
    "from sklearn.pipeline import Pipeline\n",
    "\n",
    "# Create tokenization and modelling pipeline\n",
    "model_0_1 = Pipeline([\n",
    "                    (\"tfidf\", TfidfVectorizer()), # convert words to numbers using tfidf\n",
    "                    (\"clf\", xgb.XGBClassifier()) # model the text\n",
    "])\n",
    "\n",
    "# Fit the pipeline to the training data\n",
    "model_0_1.fit(train_sentences, train_labels)"
   ]
  },
  {
   "cell_type": "code",
   "execution_count": 25,
   "id": "86c121fc",
   "metadata": {},
   "outputs": [
    {
     "data": {
      "text/plain": [
       "array(['high', 'low', 'low', 'high', 'high', 'high', 'low', 'high', 'low',\n",
       "       'high', 'low', 'high', 'high', 'high', 'high', 'high', 'high',\n",
       "       'low', 'high', 'high'], dtype=object)"
      ]
     },
     "execution_count": 25,
     "metadata": {},
     "output_type": "execute_result"
    }
   ],
   "source": [
    "# Make predictions\n",
    "baseline01_preds = model_0_1.predict(val_sentences)\n",
    "baseline01_preds[:20]"
   ]
  },
  {
   "cell_type": "code",
   "execution_count": 26,
   "id": "219ced2b",
   "metadata": {},
   "outputs": [
    {
     "data": {
      "text/plain": [
       "{'accuracy': 85.7589259880794,\n",
       " 'precision': 0.8452190808906804,\n",
       " 'recall': 0.8575892598807939,\n",
       " 'f1': 0.831661910860944}"
      ]
     },
     "execution_count": 26,
     "metadata": {},
     "output_type": "execute_result"
    }
   ],
   "source": [
    "# Get baseline results\n",
    "baseline01_results = calculate_results(y_true=val_labels,\n",
    "                                     y_pred=baseline01_preds)\n",
    "baseline01_results"
   ]
  },
  {
   "cell_type": "markdown",
   "id": "74bdacf1",
   "metadata": {},
   "source": [
    "# SVM"
   ]
  },
  {
   "cell_type": "code",
   "execution_count": 43,
   "id": "ded7dae2",
   "metadata": {},
   "outputs": [],
   "source": [
    "from sklearn import svm"
   ]
  },
  {
   "cell_type": "code",
   "execution_count": 45,
   "id": "eee99663",
   "metadata": {},
   "outputs": [
    {
     "data": {
      "text/plain": [
       "Pipeline(steps=[('tfidf', TfidfVectorizer()), ('clf', SVC(gamma=0.001))])"
      ]
     },
     "execution_count": 45,
     "metadata": {},
     "output_type": "execute_result"
    }
   ],
   "source": [
    "# Create tokenization and modelling pipeline\n",
    "model_0_s = Pipeline([\n",
    "                    (\"tfidf\", TfidfVectorizer()), # convert words to numbers using tfidf\n",
    "                    (\"clf\", svm.SVC()) # model the text\n",
    "])\n",
    "\n",
    "# Fit the pipeline to the training data\n",
    "model_0_s.fit(train_sentences, train_labels)"
   ]
  },
  {
   "cell_type": "code",
   "execution_count": 46,
   "id": "ba17fcde",
   "metadata": {},
   "outputs": [
    {
     "name": "stderr",
     "output_type": "stream",
     "text": [
      "D:\\Anaconda3\\lib\\site-packages\\sklearn\\metrics\\_classification.py:1221: UndefinedMetricWarning: Precision and F-score are ill-defined and being set to 0.0 in labels with no predicted samples. Use `zero_division` parameter to control this behavior.\n",
      "  _warn_prf(average, modifier, msg_start, len(result))\n"
     ]
    },
    {
     "data": {
      "text/plain": [
       "{'accuracy': 78.0548965144764,\n",
       " 'precision': 0.6092566869885621,\n",
       " 'recall': 0.780548965144764,\n",
       " 'f1': 0.6843470175941245}"
      ]
     },
     "execution_count": 46,
     "metadata": {},
     "output_type": "execute_result"
    }
   ],
   "source": [
    "# Make predictions\n",
    "baseline0s_preds = model_0_s.predict(val_sentences)\n",
    "baseline0s_results = calculate_results(y_true=val_labels,\n",
    "                                     y_pred=baseline0s_preds)\n",
    "baseline0s_results"
   ]
  },
  {
   "cell_type": "code",
   "execution_count": null,
   "id": "f6f9ced1",
   "metadata": {},
   "outputs": [],
   "source": [
    "baseline0s_preds[:20]"
   ]
  },
  {
   "cell_type": "markdown",
   "id": "0678aec7",
   "metadata": {},
   "source": [
    "# KNN"
   ]
  },
  {
   "cell_type": "code",
   "execution_count": 48,
   "id": "06b70f3a",
   "metadata": {},
   "outputs": [],
   "source": [
    "from sklearn.neighbors import KNeighborsClassifier"
   ]
  },
  {
   "cell_type": "code",
   "execution_count": 51,
   "id": "d7340d60",
   "metadata": {},
   "outputs": [
    {
     "data": {
      "text/plain": [
       "Pipeline(steps=[('tfidf', TfidfVectorizer()),\n",
       "                ('clf', KNeighborsClassifier(n_neighbors=1))])"
      ]
     },
     "execution_count": 51,
     "metadata": {},
     "output_type": "execute_result"
    }
   ],
   "source": [
    "# Create tokenization and modelling pipeline\n",
    "model_0k = Pipeline([\n",
    "                    (\"tfidf\", TfidfVectorizer()), # convert words to numbers using tfidf\n",
    "                    (\"clf\", KNeighborsClassifier(n_neighbors=1)) # model the text\n",
    "])\n",
    "\n",
    "# Fit the pipeline to the training data\n",
    "model_0k.fit(train_sentences, train_labels)"
   ]
  },
  {
   "cell_type": "code",
   "execution_count": 52,
   "id": "c97823d8",
   "metadata": {},
   "outputs": [
    {
     "data": {
      "text/plain": [
       "{'accuracy': 86.17749744420655,\n",
       " 'precision': 0.8626465295482388,\n",
       " 'recall': 0.8617749744420655,\n",
       " 'f1': 0.8420966752383667}"
      ]
     },
     "execution_count": 52,
     "metadata": {},
     "output_type": "execute_result"
    }
   ],
   "source": [
    "# Make predictions\n",
    "baseline0k_preds = model_0k.predict(val_sentences)\n",
    "baseline0k_results = calculate_results(y_true=val_labels,\n",
    "                                     y_pred=baseline0k_preds)\n",
    "baseline0k_results"
   ]
  },
  {
   "cell_type": "markdown",
   "id": "f1ec3d1b",
   "metadata": {},
   "source": [
    "# Decision Tree"
   ]
  },
  {
   "cell_type": "code",
   "execution_count": 53,
   "id": "d3f47961",
   "metadata": {},
   "outputs": [],
   "source": [
    "from sklearn.tree import DecisionTreeClassifier"
   ]
  },
  {
   "cell_type": "code",
   "execution_count": 54,
   "id": "eb7e364c",
   "metadata": {},
   "outputs": [
    {
     "data": {
      "text/plain": [
       "Pipeline(steps=[('tfidf', TfidfVectorizer()),\n",
       "                ('clf', DecisionTreeClassifier())])"
      ]
     },
     "execution_count": 54,
     "metadata": {},
     "output_type": "execute_result"
    }
   ],
   "source": [
    "# Create tokenization and modelling pipeline\n",
    "model_0d = Pipeline([\n",
    "                    (\"tfidf\", TfidfVectorizer()), # convert words to numbers using tfidf\n",
    "                    (\"clf\", DecisionTreeClassifier()) # model the text\n",
    "])\n",
    "\n",
    "# Fit the pipeline to the training data\n",
    "model_0d.fit(train_sentences, train_labels)"
   ]
  },
  {
   "cell_type": "code",
   "execution_count": 55,
   "id": "531c4528",
   "metadata": {},
   "outputs": [
    {
     "data": {
      "text/plain": [
       "{'accuracy': 85.5274579017418,\n",
       " 'precision': 0.8511510595762644,\n",
       " 'recall': 0.855274579017418,\n",
       " 'f1': 0.8529997873828398}"
      ]
     },
     "execution_count": 55,
     "metadata": {},
     "output_type": "execute_result"
    }
   ],
   "source": [
    "# Make predictions\n",
    "baseline0d_preds = model_0d.predict(val_sentences)\n",
    "baseline0d_results = calculate_results(y_true=val_labels,\n",
    "                                     y_pred=baseline0d_preds)\n",
    "baseline0d_results"
   ]
  },
  {
   "cell_type": "markdown",
   "id": "fb62937f",
   "metadata": {},
   "source": [
    "# Random Forest"
   ]
  },
  {
   "cell_type": "code",
   "execution_count": 14,
   "id": "6dc3bc05",
   "metadata": {},
   "outputs": [],
   "source": [
    "from sklearn.ensemble import RandomForestClassifier"
   ]
  },
  {
   "cell_type": "code",
   "execution_count": 15,
   "id": "4e1cba47",
   "metadata": {},
   "outputs": [
    {
     "data": {
      "text/plain": [
       "Pipeline(steps=[('tfidf', TfidfVectorizer()),\n",
       "                ('clf', RandomForestClassifier(n_estimators=600))])"
      ]
     },
     "execution_count": 15,
     "metadata": {},
     "output_type": "execute_result"
    }
   ],
   "source": [
    "# Create tokenization and modelling pipeline\n",
    "model_0r = Pipeline([\n",
    "                    (\"tfidf\", TfidfVectorizer()), # convert words to numbers using tfidf\n",
    "                    (\"clf\", RandomForestClassifier(n_estimators=600)) # model the text\n",
    "])\n",
    "\n",
    "# Fit the pipeline to the training data\n",
    "model_0r.fit(train_sentences, train_labels)"
   ]
  },
  {
   "cell_type": "code",
   "execution_count": null,
   "id": "7790ddad",
   "metadata": {},
   "outputs": [],
   "source": [
    "# Make predictions\n",
    "baseline0r_preds = model_0r.predict(val_sentences)"
   ]
  },
  {
   "cell_type": "code",
   "execution_count": 25,
   "id": "ca96d554",
   "metadata": {},
   "outputs": [
    {
     "data": {
      "text/plain": [
       "{'accuracy': 88.20477210038,\n",
       " 'precision': 0.8959965535937514,\n",
       " 'recall': 0.8820477210037999,\n",
       " 'f1': 0.8642107711178713}"
      ]
     },
     "execution_count": 25,
     "metadata": {},
     "output_type": "execute_result"
    }
   ],
   "source": [
    "baseline0r_results = calculate_results(y_true=val_labels,\n",
    "                                     y_pred=baseline0r_preds)\n",
    "baseline0r_results"
   ]
  },
  {
   "cell_type": "code",
   "execution_count": 26,
   "id": "cf36dd15",
   "metadata": {},
   "outputs": [
    {
     "data": {
      "text/plain": [
       "array(['high', 'low', 'low', 'high', 'high', 'high', 'low', 'high',\n",
       "       'high', 'high', 'high', 'high', 'high', 'high', 'high', 'high',\n",
       "       'high', 'high', 'high', 'high'], dtype=object)"
      ]
     },
     "execution_count": 26,
     "metadata": {},
     "output_type": "execute_result"
    }
   ],
   "source": [
    "baseline0r_preds[:20]"
   ]
  },
  {
   "cell_type": "code",
   "execution_count": 29,
   "id": "b7f6405e",
   "metadata": {},
   "outputs": [
    {
     "data": {
      "text/plain": [
       "{'accuracy': 41.32091121269988,\n",
       " 'precision': 0.7251044346692632,\n",
       " 'recall': 0.41320911212699885,\n",
       " 'f1': 0.4638410410357201}"
      ]
     },
     "execution_count": 29,
     "metadata": {},
     "output_type": "execute_result"
    }
   ],
   "source": [
    "# Make predictions\n",
    "baseline02_preds = model_0_2.predict(val_sentences)\n",
    "baseline02_results = calculate_results(y_true=val_labels,\n",
    "                                     y_pred=baseline02_preds)\n",
    "baseline02_results"
   ]
  },
  {
   "cell_type": "markdown",
   "id": "26de4d2a",
   "metadata": {},
   "source": [
    "# MLPClassifier"
   ]
  },
  {
   "cell_type": "code",
   "execution_count": 15,
   "id": "dd30610c",
   "metadata": {},
   "outputs": [],
   "source": [
    "from sklearn.neural_network import MLPClassifier"
   ]
  },
  {
   "cell_type": "code",
   "execution_count": 16,
   "id": "53c491c6",
   "metadata": {},
   "outputs": [
    {
     "name": "stderr",
     "output_type": "stream",
     "text": [
      "D:\\Anaconda3\\lib\\site-packages\\sklearn\\neural_network\\_multilayer_perceptron.py:587: UserWarning: Training interrupted by user.\n",
      "  warnings.warn(\"Training interrupted by user.\")\n"
     ]
    },
    {
     "data": {
      "text/plain": [
       "Pipeline(steps=[('tfidf', TfidfVectorizer()),\n",
       "                ('clf', MLPClassifier(max_iter=100, random_state=42))])"
      ]
     },
     "execution_count": 16,
     "metadata": {},
     "output_type": "execute_result"
    }
   ],
   "source": [
    "# Create tokenization and modelling pipeline\n",
    "model_0_3 = Pipeline([\n",
    "                    (\"tfidf\", TfidfVectorizer()), # convert words to numbers using tfidf\n",
    "                    (\"clf\", MLPClassifier(max_iter=100, random_state=42)) # model the text\n",
    "])\n",
    "\n",
    "# Fit the pipeline to the training data\n",
    "model_0_3.fit(train_sentences, train_labels)"
   ]
  },
  {
   "cell_type": "code",
   "execution_count": 19,
   "id": "60f9bd70",
   "metadata": {},
   "outputs": [
    {
     "data": {
      "text/plain": [
       "{'accuracy': 90.27834037382097,\n",
       " 'precision': 0.8982642243476165,\n",
       " 'recall': 0.9027834037382096,\n",
       " 'f1': 0.9000677663568981}"
      ]
     },
     "execution_count": 19,
     "metadata": {},
     "output_type": "execute_result"
    }
   ],
   "source": [
    "# Make predictions\n",
    "baseline03_preds = model_0_3.predict(val_sentences)\n",
    "baseline03_results = calculate_results(y_true=val_labels,\n",
    "                                     y_pred=baseline03_preds)\n",
    "baseline03_results"
   ]
  },
  {
   "cell_type": "code",
   "execution_count": null,
   "id": "f455086d",
   "metadata": {},
   "outputs": [],
   "source": []
  },
  {
   "cell_type": "markdown",
   "id": "5e2018eb",
   "metadata": {},
   "source": [
    "# Feed-forward neural network (dense model)"
   ]
  },
  {
   "cell_type": "code",
   "execution_count": 29,
   "id": "edd8a0e0",
   "metadata": {},
   "outputs": [],
   "source": [
    "from sklearn.preprocessing import LabelEncoder\n",
    "from keras.utils import np_utils"
   ]
  },
  {
   "cell_type": "code",
   "execution_count": 30,
   "id": "e169f6b4",
   "metadata": {},
   "outputs": [],
   "source": [
    "# encode class values as integers\n",
    "encoder = LabelEncoder()\n",
    "encoder.fit(train_labels)\n",
    "encoded_Y = encoder.transform(train_labels)\n",
    "# convert integers to dummy variables (i.e. one hot encoded)\n",
    "dummy_y = np_utils.to_categorical(encoded_Y)\n",
    "\n",
    "# encode class values as integers\n",
    "encoder = LabelEncoder()\n",
    "encoder.fit(val_labels)\n",
    "encoded_val = encoder.transform(val_labels)\n",
    "# convert integers to dummy variables (i.e. one hot encoded)\n",
    "dummy_val = np_utils.to_categorical(encoded_val)\n"
   ]
  },
  {
   "cell_type": "code",
   "execution_count": 32,
   "id": "8fa763ba",
   "metadata": {},
   "outputs": [],
   "source": [
    "# Create tensorboard callback (need to create a new one for each model)\n",
    "from helper_functions import create_tensorboard_callback\n",
    "\n",
    "# Create directory to save TensorBoard logs\n",
    "SAVE_DIR = \"model_logs\""
   ]
  },
  {
   "cell_type": "code",
   "execution_count": 37,
   "id": "b062ad0a",
   "metadata": {},
   "outputs": [],
   "source": [
    "# Build model with the Functional API\n",
    "from tensorflow.keras import layers\n",
    "inputs = layers.Input(shape=(1,), dtype=\"string\") # inputs are 1-dimensional strings\n",
    "x = text_vectorizer(inputs) # turn the input text into numbers\n",
    "x = embedding(x) # create an embedding of the numerized numbers\n",
    "x = layers.GlobalAveragePooling1D()(x) # lower the dimensionality of the embedding (try running the model without this layer and see what happens)\n",
    "outputs = layers.Dense(3, activation=\"softmax\")(x) # create the output layer, want binary outputs so use sigmoid activation\n",
    "model_1 = tf.keras.Model(inputs, outputs, name=\"model_1_dense\") # construct the model"
   ]
  },
  {
   "cell_type": "code",
   "execution_count": 38,
   "id": "163913ae",
   "metadata": {},
   "outputs": [
    {
     "name": "stdout",
     "output_type": "stream",
     "text": [
      "Model: \"model_1_dense\"\n",
      "_________________________________________________________________\n",
      "Layer (type)                 Output Shape              Param #   \n",
      "=================================================================\n",
      "input_2 (InputLayer)         [(None, 1)]               0         \n",
      "_________________________________________________________________\n",
      "text_vectorization (TextVect (None, 15)                0         \n",
      "_________________________________________________________________\n",
      "embedding_1 (Embedding)      (None, 15, 128)           1280000   \n",
      "_________________________________________________________________\n",
      "global_average_pooling1d_1 ( (None, 128)               0         \n",
      "_________________________________________________________________\n",
      "dense_1 (Dense)              (None, 3)                 387       \n",
      "=================================================================\n",
      "Total params: 1,280,387\n",
      "Trainable params: 1,280,387\n",
      "Non-trainable params: 0\n",
      "_________________________________________________________________\n"
     ]
    }
   ],
   "source": [
    "# Compile model\n",
    "model_1.compile(loss=\"categorical_crossentropy\",\n",
    "                optimizer=tf.keras.optimizers.Adam(),\n",
    "                metrics=[\"accuracy\"])\n",
    "model_1.summary()"
   ]
  },
  {
   "cell_type": "code",
   "execution_count": 39,
   "id": "527ce11f",
   "metadata": {},
   "outputs": [
    {
     "name": "stdout",
     "output_type": "stream",
     "text": [
      "Saving TensorBoard log files to: model_logs/simple_dense_model/20220429-095437\n",
      "Epoch 1/5\n",
      "14581/14581 [==============================] - 273s 18ms/step - loss: 0.4790 - accuracy: 0.8247 - val_loss: 0.4578 - val_accuracy: 0.8331\n",
      "Epoch 2/5\n",
      "14581/14581 [==============================] - 255s 18ms/step - loss: 0.4503 - accuracy: 0.8342 - val_loss: 0.4548 - val_accuracy: 0.8362\n",
      "Epoch 3/5\n",
      "14581/14581 [==============================] - 279s 19ms/step - loss: 0.4437 - accuracy: 0.8365 - val_loss: 0.4540 - val_accuracy: 0.8359\n",
      "Epoch 4/5\n",
      "14581/14581 [==============================] - 319s 22ms/step - loss: 0.4405 - accuracy: 0.8376 - val_loss: 0.4537 - val_accuracy: 0.8365\n",
      "Epoch 5/5\n",
      "14581/14581 [==============================] - 257s 18ms/step - loss: 0.4383 - accuracy: 0.8384 - val_loss: 0.4563 - val_accuracy: 0.8361\n"
     ]
    }
   ],
   "source": [
    "# Fit the model\n",
    "model_1_history = model_1.fit(train_sentences, # input sentences can be a list of strings due to text preprocessing layer built-in model\n",
    "                              dummy_y,\n",
    "                              epochs=5,\n",
    "                              validation_data=(val_sentences, dummy_val),\n",
    "                              callbacks=[create_tensorboard_callback(dir_name=SAVE_DIR, \n",
    "                                                                     experiment_name=\"simple_dense_model\")])"
   ]
  },
  {
   "cell_type": "code",
   "execution_count": 41,
   "id": "cf1cbed6",
   "metadata": {},
   "outputs": [
    {
     "data": {
      "text/plain": [
       "{'accuracy': 81.4729085893949,\n",
       " 'precision': 0.8295304142498574,\n",
       " 'recall': 0.814729085893949,\n",
       " 'f1': 0.8012203224507465}"
      ]
     },
     "execution_count": 41,
     "metadata": {},
     "output_type": "execute_result"
    }
   ],
   "source": [
    "# Make predictions (these come back in the form of probabilities)\n",
    "model_1_pred_probs = model_1.predict(val_sentences)\n",
    "model_1_preds = tf.squeeze(tf.round(model_1_pred_probs)) # squeeze removes single dimensions\n",
    "# Calculate model_1 metrics\n",
    "model_1_results = calculate_results(y_true=dummy_val, \n",
    "                                    y_pred=model_1_preds)\n",
    "model_1_results"
   ]
  },
  {
   "cell_type": "markdown",
   "id": "feb0af08",
   "metadata": {},
   "source": [
    "# LSTM"
   ]
  },
  {
   "cell_type": "code",
   "execution_count": 59,
   "id": "6f8c3fa3",
   "metadata": {},
   "outputs": [
    {
     "name": "stdout",
     "output_type": "stream",
     "text": [
      "(None, 15, 128)\n",
      "(None, 64)\n"
     ]
    }
   ],
   "source": [
    "# Set random seed and create embedding layer (new embedding layer for each model)\n",
    "tf.random.set_seed(42)\n",
    "from tensorflow.keras import layers\n",
    "model_2_embedding = layers.Embedding(input_dim=max_vocab_length,\n",
    "                                     output_dim=128,\n",
    "                                     embeddings_initializer=\"uniform\",\n",
    "                                     input_length=max_length,\n",
    "                                     name=\"embedding_2\")\n",
    "\n",
    "\n",
    "# Create LSTM model\n",
    "inputs = layers.Input(shape=(1,), dtype=\"string\")\n",
    "x = text_vectorizer(inputs)\n",
    "x = model_2_embedding(x)\n",
    "print(x.shape)\n",
    "x = layers.LSTM(64, return_sequences=True)(x) # return vector for each word in the Tweet (you can stack RNN cells as long as return_sequences=True)\n",
    "x = layers.LSTM(64)(x) # return vector for whole sequence\n",
    "print(x.shape)\n",
    "# x = layers.Dense(64, activation=\"relu\")(x) # optional dense layer on top of output of LSTM cell\n",
    "outputs = layers.Dense(3, activation=\"softmax\")(x)\n",
    "model_2 = tf.keras.Model(inputs, outputs, name=\"model_2_LSTM\")"
   ]
  },
  {
   "cell_type": "code",
   "execution_count": 60,
   "id": "aa0e9fc6",
   "metadata": {},
   "outputs": [],
   "source": [
    "# Compile model\n",
    "model_2.compile(loss=\"categorical_crossentropy\",\n",
    "                optimizer=tf.keras.optimizers.Adam(),\n",
    "                metrics=[\"accuracy\"])"
   ]
  },
  {
   "cell_type": "code",
   "execution_count": 61,
   "id": "9d375bb1",
   "metadata": {},
   "outputs": [
    {
     "name": "stdout",
     "output_type": "stream",
     "text": [
      "Saving TensorBoard log files to: model_logs/LSTM/20220429-124437\n",
      "Epoch 1/5\n",
      "14581/14581 [==============================] - 662s 45ms/step - loss: 0.4612 - accuracy: 0.8331 - val_loss: 0.4240 - val_accuracy: 0.8466\n",
      "Epoch 2/5\n",
      "14581/14581 [==============================] - 623s 43ms/step - loss: 0.3863 - accuracy: 0.8626 - val_loss: 0.3940 - val_accuracy: 0.8636\n",
      "Epoch 3/5\n",
      "14581/14581 [==============================] - 619s 42ms/step - loss: 0.3318 - accuracy: 0.8842 - val_loss: 0.3797 - val_accuracy: 0.8691\n",
      "Epoch 4/5\n",
      "14581/14581 [==============================] - 670s 46ms/step - loss: 0.2847 - accuracy: 0.9019 - val_loss: 0.3832 - val_accuracy: 0.8722\n",
      "Epoch 5/5\n",
      "14581/14581 [==============================] - 563s 39ms/step - loss: 0.2428 - accuracy: 0.9173 - val_loss: 0.3979 - val_accuracy: 0.8738\n"
     ]
    }
   ],
   "source": [
    "# Fit model\n",
    "model_2_history = model_2.fit(train_sentences,\n",
    "                              dummy_y,\n",
    "                              epochs=5,\n",
    "                              validation_data=(val_sentences, dummy_val),\n",
    "                              callbacks=[create_tensorboard_callback(SAVE_DIR, \n",
    "                                                                     \"LSTM\")])"
   ]
  },
  {
   "cell_type": "code",
   "execution_count": 62,
   "id": "ec897577",
   "metadata": {},
   "outputs": [
    {
     "data": {
      "text/plain": [
       "{'accuracy': 86.21800435931563,\n",
       " 'precision': 0.8750269073218534,\n",
       " 'recall': 0.8621800435931563,\n",
       " 'f1': 0.8622291147504864}"
      ]
     },
     "execution_count": 62,
     "metadata": {},
     "output_type": "execute_result"
    }
   ],
   "source": [
    "# Make predictions on the validation dataset\n",
    "model_2_pred_probs = model_2.predict(val_sentences)\n",
    "model_2_preds = tf.squeeze(tf.round(model_2_pred_probs))\n",
    "model_2_results = calculate_results(y_true=dummy_val,\n",
    "                                    y_pred=model_2_preds)\n",
    "\n",
    "model_2_results "
   ]
  },
  {
   "cell_type": "markdown",
   "id": "35aa1258",
   "metadata": {},
   "source": [
    "# Predict test data with the best model\n",
    "MLP"
   ]
  },
  {
   "cell_type": "code",
   "execution_count": 20,
   "id": "230da997",
   "metadata": {},
   "outputs": [
    {
     "data": {
      "text/html": [
       "<div>\n",
       "<style scoped>\n",
       "    .dataframe tbody tr th:only-of-type {\n",
       "        vertical-align: middle;\n",
       "    }\n",
       "\n",
       "    .dataframe tbody tr th {\n",
       "        vertical-align: top;\n",
       "    }\n",
       "\n",
       "    .dataframe thead th {\n",
       "        text-align: right;\n",
       "    }\n",
       "</style>\n",
       "<table border=\"1\" class=\"dataframe\">\n",
       "  <thead>\n",
       "    <tr style=\"text-align: right;\">\n",
       "      <th></th>\n",
       "      <th>reviewID</th>\n",
       "      <th>productID</th>\n",
       "      <th>userId</th>\n",
       "      <th>profileName</th>\n",
       "      <th>helpfulness</th>\n",
       "      <th>time</th>\n",
       "      <th>summary</th>\n",
       "      <th>text</th>\n",
       "    </tr>\n",
       "  </thead>\n",
       "  <tbody>\n",
       "    <tr>\n",
       "      <th>0</th>\n",
       "      <td>0</td>\n",
       "      <td>B001E4KFG0</td>\n",
       "      <td>A3SGXH7AUHU8GW</td>\n",
       "      <td>delmartian</td>\n",
       "      <td>1/1</td>\n",
       "      <td>1303862400</td>\n",
       "      <td>Good Quality Dog Food</td>\n",
       "      <td>I have bought several of the Vitality canned d...</td>\n",
       "    </tr>\n",
       "    <tr>\n",
       "      <th>1</th>\n",
       "      <td>20</td>\n",
       "      <td>B001GVISJM</td>\n",
       "      <td>A1WO0KGLPR5PV6</td>\n",
       "      <td>mom2emma</td>\n",
       "      <td>0/0</td>\n",
       "      <td>1313452800</td>\n",
       "      <td>Always fresh</td>\n",
       "      <td>My husband is a Twizzlers addict.  We've bough...</td>\n",
       "    </tr>\n",
       "    <tr>\n",
       "      <th>2</th>\n",
       "      <td>49</td>\n",
       "      <td>B001EO5QW8</td>\n",
       "      <td>A276999Y6VRSCQ</td>\n",
       "      <td>JMay</td>\n",
       "      <td>0/1</td>\n",
       "      <td>1334016000</td>\n",
       "      <td>Same stuff</td>\n",
       "      <td>This is the same stuff you can buy at the big ...</td>\n",
       "    </tr>\n",
       "    <tr>\n",
       "      <th>3</th>\n",
       "      <td>50</td>\n",
       "      <td>B001EO5QW8</td>\n",
       "      <td>A108P30XVUFKXY</td>\n",
       "      <td>Roberto A</td>\n",
       "      <td>0/7</td>\n",
       "      <td>1203379200</td>\n",
       "      <td>Don't like it</td>\n",
       "      <td>This oatmeal is not good. Its mushy, soft, I d...</td>\n",
       "    </tr>\n",
       "    <tr>\n",
       "      <th>4</th>\n",
       "      <td>78</td>\n",
       "      <td>B004X2KR36</td>\n",
       "      <td>A2AB7M9UCNBVN7</td>\n",
       "      <td>sharonh4</td>\n",
       "      <td>0/0</td>\n",
       "      <td>1346976000</td>\n",
       "      <td>Order only in cold weather</td>\n",
       "      <td>The taste was great, but the berries had melte...</td>\n",
       "    </tr>\n",
       "  </tbody>\n",
       "</table>\n",
       "</div>"
      ],
      "text/plain": [
       "   reviewID   productID          userId profileName helpfulness        time  \\\n",
       "0         0  B001E4KFG0  A3SGXH7AUHU8GW  delmartian         1/1  1303862400   \n",
       "1        20  B001GVISJM  A1WO0KGLPR5PV6    mom2emma         0/0  1313452800   \n",
       "2        49  B001EO5QW8  A276999Y6VRSCQ        JMay         0/1  1334016000   \n",
       "3        50  B001EO5QW8  A108P30XVUFKXY   Roberto A         0/7  1203379200   \n",
       "4        78  B004X2KR36  A2AB7M9UCNBVN7    sharonh4         0/0  1346976000   \n",
       "\n",
       "                      summary  \\\n",
       "0       Good Quality Dog Food   \n",
       "1                Always fresh   \n",
       "2                  Same stuff   \n",
       "3               Don't like it   \n",
       "4  Order only in cold weather   \n",
       "\n",
       "                                                text  \n",
       "0  I have bought several of the Vitality canned d...  \n",
       "1  My husband is a Twizzlers addict.  We've bough...  \n",
       "2  This is the same stuff you can buy at the big ...  \n",
       "3  This oatmeal is not good. Its mushy, soft, I d...  \n",
       "4  The taste was great, but the berries had melte...  "
      ]
     },
     "execution_count": 20,
     "metadata": {},
     "output_type": "execute_result"
    }
   ],
   "source": [
    "df=pd.read_csv(\"C:/Users/jelee/MIS/foods_testing.csv\",  sep=\"|\", encoding = \"ISO-8859-1\")\n",
    "df.head()"
   ]
  },
  {
   "cell_type": "code",
   "execution_count": 21,
   "id": "04d6c840",
   "metadata": {},
   "outputs": [
    {
     "data": {
      "text/html": [
       "<div>\n",
       "<style scoped>\n",
       "    .dataframe tbody tr th:only-of-type {\n",
       "        vertical-align: middle;\n",
       "    }\n",
       "\n",
       "    .dataframe tbody tr th {\n",
       "        vertical-align: top;\n",
       "    }\n",
       "\n",
       "    .dataframe thead th {\n",
       "        text-align: right;\n",
       "    }\n",
       "</style>\n",
       "<table border=\"1\" class=\"dataframe\">\n",
       "  <thead>\n",
       "    <tr style=\"text-align: right;\">\n",
       "      <th></th>\n",
       "      <th>reviewID</th>\n",
       "      <th>productID</th>\n",
       "      <th>userId</th>\n",
       "      <th>profileName</th>\n",
       "      <th>helpfulness</th>\n",
       "      <th>time</th>\n",
       "      <th>summary</th>\n",
       "      <th>text</th>\n",
       "      <th>cleantext</th>\n",
       "    </tr>\n",
       "  </thead>\n",
       "  <tbody>\n",
       "    <tr>\n",
       "      <th>0</th>\n",
       "      <td>0</td>\n",
       "      <td>B001E4KFG0</td>\n",
       "      <td>A3SGXH7AUHU8GW</td>\n",
       "      <td>delmartian</td>\n",
       "      <td>1/1</td>\n",
       "      <td>1303862400</td>\n",
       "      <td>Good Quality Dog Food</td>\n",
       "      <td>I have bought several of the Vitality canned d...</td>\n",
       "      <td>bought several vitality canned dog food produc...</td>\n",
       "    </tr>\n",
       "    <tr>\n",
       "      <th>1</th>\n",
       "      <td>20</td>\n",
       "      <td>B001GVISJM</td>\n",
       "      <td>A1WO0KGLPR5PV6</td>\n",
       "      <td>mom2emma</td>\n",
       "      <td>0/0</td>\n",
       "      <td>1313452800</td>\n",
       "      <td>Always fresh</td>\n",
       "      <td>My husband is a Twizzlers addict.  We've bough...</td>\n",
       "      <td>husband twizzlers addict weve bought many time...</td>\n",
       "    </tr>\n",
       "    <tr>\n",
       "      <th>2</th>\n",
       "      <td>49</td>\n",
       "      <td>B001EO5QW8</td>\n",
       "      <td>A276999Y6VRSCQ</td>\n",
       "      <td>JMay</td>\n",
       "      <td>0/1</td>\n",
       "      <td>1334016000</td>\n",
       "      <td>Same stuff</td>\n",
       "      <td>This is the same stuff you can buy at the big ...</td>\n",
       "      <td>stuff buy big box store nothing healthy carbs ...</td>\n",
       "    </tr>\n",
       "    <tr>\n",
       "      <th>3</th>\n",
       "      <td>50</td>\n",
       "      <td>B001EO5QW8</td>\n",
       "      <td>A108P30XVUFKXY</td>\n",
       "      <td>Roberto A</td>\n",
       "      <td>0/7</td>\n",
       "      <td>1203379200</td>\n",
       "      <td>Don't like it</td>\n",
       "      <td>This oatmeal is not good. Its mushy, soft, I d...</td>\n",
       "      <td>oatmeal good mushy soft dont like quaker oat w...</td>\n",
       "    </tr>\n",
       "    <tr>\n",
       "      <th>4</th>\n",
       "      <td>78</td>\n",
       "      <td>B004X2KR36</td>\n",
       "      <td>A2AB7M9UCNBVN7</td>\n",
       "      <td>sharonh4</td>\n",
       "      <td>0/0</td>\n",
       "      <td>1346976000</td>\n",
       "      <td>Order only in cold weather</td>\n",
       "      <td>The taste was great, but the berries had melte...</td>\n",
       "      <td>taste great berry melted may order winter orde...</td>\n",
       "    </tr>\n",
       "  </tbody>\n",
       "</table>\n",
       "</div>"
      ],
      "text/plain": [
       "   reviewID   productID          userId profileName helpfulness        time  \\\n",
       "0         0  B001E4KFG0  A3SGXH7AUHU8GW  delmartian         1/1  1303862400   \n",
       "1        20  B001GVISJM  A1WO0KGLPR5PV6    mom2emma         0/0  1313452800   \n",
       "2        49  B001EO5QW8  A276999Y6VRSCQ        JMay         0/1  1334016000   \n",
       "3        50  B001EO5QW8  A108P30XVUFKXY   Roberto A         0/7  1203379200   \n",
       "4        78  B004X2KR36  A2AB7M9UCNBVN7    sharonh4         0/0  1346976000   \n",
       "\n",
       "                      summary  \\\n",
       "0       Good Quality Dog Food   \n",
       "1                Always fresh   \n",
       "2                  Same stuff   \n",
       "3               Don't like it   \n",
       "4  Order only in cold weather   \n",
       "\n",
       "                                                text  \\\n",
       "0  I have bought several of the Vitality canned d...   \n",
       "1  My husband is a Twizzlers addict.  We've bough...   \n",
       "2  This is the same stuff you can buy at the big ...   \n",
       "3  This oatmeal is not good. Its mushy, soft, I d...   \n",
       "4  The taste was great, but the berries had melte...   \n",
       "\n",
       "                                           cleantext  \n",
       "0  bought several vitality canned dog food produc...  \n",
       "1  husband twizzlers addict weve bought many time...  \n",
       "2  stuff buy big box store nothing healthy carbs ...  \n",
       "3  oatmeal good mushy soft dont like quaker oat w...  \n",
       "4  taste great berry melted may order winter orde...  "
      ]
     },
     "execution_count": 21,
     "metadata": {},
     "output_type": "execute_result"
    }
   ],
   "source": [
    "#Clean the text\n",
    "\n",
    "df['cleantext'] = df['text'].apply(lambda x: clean_text(x))\n",
    "df.head()"
   ]
  },
  {
   "cell_type": "code",
   "execution_count": 25,
   "id": "f6bf4b66",
   "metadata": {},
   "outputs": [
    {
     "data": {
      "text/plain": [
       "array(['high', 'high', 'low', 'low', 'high', 'high', 'high', 'high',\n",
       "       'high', 'high', 'high', 'high', 'high', 'medium', 'high', 'low',\n",
       "       'high', 'medium', 'medium', 'high'], dtype='<U6')"
      ]
     },
     "execution_count": 25,
     "metadata": {},
     "output_type": "execute_result"
    }
   ],
   "source": [
    "ct=np.asarray(df['cleantext'])\n",
    "\n",
    "model_0_3_pred_probs = model_0_3.predict(ct)\n",
    "#model_0_3_preds = tf.squeeze(tf.round(model_0_3_pred_probs)) # squeeze removes single dimensions\n",
    "\n",
    "#model_0_3_pred_probs[:20]\n"
   ]
  },
  {
   "cell_type": "code",
   "execution_count": 28,
   "id": "ac278ba8",
   "metadata": {},
   "outputs": [
    {
     "data": {
      "text/plain": [
       "5000"
      ]
     },
     "execution_count": 28,
     "metadata": {},
     "output_type": "execute_result"
    }
   ],
   "source": [
    "len(model_0_3_pred_probs)"
   ]
  },
  {
   "cell_type": "code",
   "execution_count": 29,
   "id": "6abd603d",
   "metadata": {},
   "outputs": [
    {
     "data": {
      "text/html": [
       "<div>\n",
       "<style scoped>\n",
       "    .dataframe tbody tr th:only-of-type {\n",
       "        vertical-align: middle;\n",
       "    }\n",
       "\n",
       "    .dataframe tbody tr th {\n",
       "        vertical-align: top;\n",
       "    }\n",
       "\n",
       "    .dataframe thead th {\n",
       "        text-align: right;\n",
       "    }\n",
       "</style>\n",
       "<table border=\"1\" class=\"dataframe\">\n",
       "  <thead>\n",
       "    <tr style=\"text-align: right;\">\n",
       "      <th></th>\n",
       "      <th>reviewID</th>\n",
       "      <th>productID</th>\n",
       "      <th>userId</th>\n",
       "      <th>profileName</th>\n",
       "      <th>helpfulness</th>\n",
       "      <th>time</th>\n",
       "      <th>summary</th>\n",
       "      <th>text</th>\n",
       "      <th>cleantext</th>\n",
       "      <th>score_level</th>\n",
       "    </tr>\n",
       "  </thead>\n",
       "  <tbody>\n",
       "    <tr>\n",
       "      <th>0</th>\n",
       "      <td>0</td>\n",
       "      <td>B001E4KFG0</td>\n",
       "      <td>A3SGXH7AUHU8GW</td>\n",
       "      <td>delmartian</td>\n",
       "      <td>1/1</td>\n",
       "      <td>1303862400</td>\n",
       "      <td>Good Quality Dog Food</td>\n",
       "      <td>I have bought several of the Vitality canned d...</td>\n",
       "      <td>bought several vitality canned dog food produc...</td>\n",
       "      <td>high</td>\n",
       "    </tr>\n",
       "    <tr>\n",
       "      <th>1</th>\n",
       "      <td>20</td>\n",
       "      <td>B001GVISJM</td>\n",
       "      <td>A1WO0KGLPR5PV6</td>\n",
       "      <td>mom2emma</td>\n",
       "      <td>0/0</td>\n",
       "      <td>1313452800</td>\n",
       "      <td>Always fresh</td>\n",
       "      <td>My husband is a Twizzlers addict.  We've bough...</td>\n",
       "      <td>husband twizzlers addict weve bought many time...</td>\n",
       "      <td>high</td>\n",
       "    </tr>\n",
       "    <tr>\n",
       "      <th>2</th>\n",
       "      <td>49</td>\n",
       "      <td>B001EO5QW8</td>\n",
       "      <td>A276999Y6VRSCQ</td>\n",
       "      <td>JMay</td>\n",
       "      <td>0/1</td>\n",
       "      <td>1334016000</td>\n",
       "      <td>Same stuff</td>\n",
       "      <td>This is the same stuff you can buy at the big ...</td>\n",
       "      <td>stuff buy big box store nothing healthy carbs ...</td>\n",
       "      <td>low</td>\n",
       "    </tr>\n",
       "    <tr>\n",
       "      <th>3</th>\n",
       "      <td>50</td>\n",
       "      <td>B001EO5QW8</td>\n",
       "      <td>A108P30XVUFKXY</td>\n",
       "      <td>Roberto A</td>\n",
       "      <td>0/7</td>\n",
       "      <td>1203379200</td>\n",
       "      <td>Don't like it</td>\n",
       "      <td>This oatmeal is not good. Its mushy, soft, I d...</td>\n",
       "      <td>oatmeal good mushy soft dont like quaker oat w...</td>\n",
       "      <td>low</td>\n",
       "    </tr>\n",
       "    <tr>\n",
       "      <th>4</th>\n",
       "      <td>78</td>\n",
       "      <td>B004X2KR36</td>\n",
       "      <td>A2AB7M9UCNBVN7</td>\n",
       "      <td>sharonh4</td>\n",
       "      <td>0/0</td>\n",
       "      <td>1346976000</td>\n",
       "      <td>Order only in cold weather</td>\n",
       "      <td>The taste was great, but the berries had melte...</td>\n",
       "      <td>taste great berry melted may order winter orde...</td>\n",
       "      <td>high</td>\n",
       "    </tr>\n",
       "  </tbody>\n",
       "</table>\n",
       "</div>"
      ],
      "text/plain": [
       "   reviewID   productID          userId profileName helpfulness        time  \\\n",
       "0         0  B001E4KFG0  A3SGXH7AUHU8GW  delmartian         1/1  1303862400   \n",
       "1        20  B001GVISJM  A1WO0KGLPR5PV6    mom2emma         0/0  1313452800   \n",
       "2        49  B001EO5QW8  A276999Y6VRSCQ        JMay         0/1  1334016000   \n",
       "3        50  B001EO5QW8  A108P30XVUFKXY   Roberto A         0/7  1203379200   \n",
       "4        78  B004X2KR36  A2AB7M9UCNBVN7    sharonh4         0/0  1346976000   \n",
       "\n",
       "                      summary  \\\n",
       "0       Good Quality Dog Food   \n",
       "1                Always fresh   \n",
       "2                  Same stuff   \n",
       "3               Don't like it   \n",
       "4  Order only in cold weather   \n",
       "\n",
       "                                                text  \\\n",
       "0  I have bought several of the Vitality canned d...   \n",
       "1  My husband is a Twizzlers addict.  We've bough...   \n",
       "2  This is the same stuff you can buy at the big ...   \n",
       "3  This oatmeal is not good. Its mushy, soft, I d...   \n",
       "4  The taste was great, but the berries had melte...   \n",
       "\n",
       "                                           cleantext score_level  \n",
       "0  bought several vitality canned dog food produc...        high  \n",
       "1  husband twizzlers addict weve bought many time...        high  \n",
       "2  stuff buy big box store nothing healthy carbs ...         low  \n",
       "3  oatmeal good mushy soft dont like quaker oat w...         low  \n",
       "4  taste great berry melted may order winter orde...        high  "
      ]
     },
     "metadata": {},
     "output_type": "display_data"
    }
   ],
   "source": [
    "df1=pd.DataFrame(model_0_3_pred_probs)\n",
    "df1.columns=['score_level']\n",
    "\n",
    "frames=[df,df1 ]\n",
    "df=pd.concat(frames, axis=1)\n",
    "display(df.head())"
   ]
  },
  {
   "cell_type": "code",
   "execution_count": 30,
   "id": "0bd93ec8",
   "metadata": {},
   "outputs": [
    {
     "data": {
      "text/plain": [
       "high      3935\n",
       "low        734\n",
       "medium     331\n",
       "Name: score_level, dtype: int64"
      ]
     },
     "execution_count": 30,
     "metadata": {},
     "output_type": "execute_result"
    }
   ],
   "source": [
    "df.score_level.value_counts()"
   ]
  },
  {
   "cell_type": "code",
   "execution_count": 39,
   "id": "d5e7b298",
   "metadata": {},
   "outputs": [],
   "source": [
    "from textblob import TextBlob\n",
    "\n",
    "def sentiment_calc(text):\n",
    "    try:\n",
    "        return TextBlob(text).sentiment.polarity\n",
    "    except:\n",
    "        return None\n",
    "\n",
    "df['sentiment'] = df['cleantext'].apply(sentiment_calc)"
   ]
  },
  {
   "cell_type": "code",
   "execution_count": 40,
   "id": "350bbbf8",
   "metadata": {},
   "outputs": [
    {
     "data": {
      "text/html": [
       "<div>\n",
       "<style scoped>\n",
       "    .dataframe tbody tr th:only-of-type {\n",
       "        vertical-align: middle;\n",
       "    }\n",
       "\n",
       "    .dataframe tbody tr th {\n",
       "        vertical-align: top;\n",
       "    }\n",
       "\n",
       "    .dataframe thead th {\n",
       "        text-align: right;\n",
       "    }\n",
       "</style>\n",
       "<table border=\"1\" class=\"dataframe\">\n",
       "  <thead>\n",
       "    <tr style=\"text-align: right;\">\n",
       "      <th></th>\n",
       "      <th>reviewID</th>\n",
       "      <th>productID</th>\n",
       "      <th>userId</th>\n",
       "      <th>profileName</th>\n",
       "      <th>helpfulness</th>\n",
       "      <th>time</th>\n",
       "      <th>summary</th>\n",
       "      <th>text</th>\n",
       "      <th>cleantext</th>\n",
       "      <th>score_level</th>\n",
       "      <th>sentiment</th>\n",
       "    </tr>\n",
       "  </thead>\n",
       "  <tbody>\n",
       "    <tr>\n",
       "      <th>0</th>\n",
       "      <td>0</td>\n",
       "      <td>B001E4KFG0</td>\n",
       "      <td>A3SGXH7AUHU8GW</td>\n",
       "      <td>delmartian</td>\n",
       "      <td>1/1</td>\n",
       "      <td>1303862400</td>\n",
       "      <td>Good Quality Dog Food</td>\n",
       "      <td>I have bought several of the Vitality canned d...</td>\n",
       "      <td>bought several vitality canned dog food produc...</td>\n",
       "      <td>high</td>\n",
       "      <td>0.425000</td>\n",
       "    </tr>\n",
       "    <tr>\n",
       "      <th>1</th>\n",
       "      <td>20</td>\n",
       "      <td>B001GVISJM</td>\n",
       "      <td>A1WO0KGLPR5PV6</td>\n",
       "      <td>mom2emma</td>\n",
       "      <td>0/0</td>\n",
       "      <td>1313452800</td>\n",
       "      <td>Always fresh</td>\n",
       "      <td>My husband is a Twizzlers addict.  We've bough...</td>\n",
       "      <td>husband twizzlers addict weve bought many time...</td>\n",
       "      <td>high</td>\n",
       "      <td>0.400000</td>\n",
       "    </tr>\n",
       "    <tr>\n",
       "      <th>2</th>\n",
       "      <td>49</td>\n",
       "      <td>B001EO5QW8</td>\n",
       "      <td>A276999Y6VRSCQ</td>\n",
       "      <td>JMay</td>\n",
       "      <td>0/1</td>\n",
       "      <td>1334016000</td>\n",
       "      <td>Same stuff</td>\n",
       "      <td>This is the same stuff you can buy at the big ...</td>\n",
       "      <td>stuff buy big box store nothing healthy carbs ...</td>\n",
       "      <td>low</td>\n",
       "      <td>0.066667</td>\n",
       "    </tr>\n",
       "    <tr>\n",
       "      <th>3</th>\n",
       "      <td>50</td>\n",
       "      <td>B001EO5QW8</td>\n",
       "      <td>A108P30XVUFKXY</td>\n",
       "      <td>Roberto A</td>\n",
       "      <td>0/7</td>\n",
       "      <td>1203379200</td>\n",
       "      <td>Don't like it</td>\n",
       "      <td>This oatmeal is not good. Its mushy, soft, I d...</td>\n",
       "      <td>oatmeal good mushy soft dont like quaker oat w...</td>\n",
       "      <td>low</td>\n",
       "      <td>0.400000</td>\n",
       "    </tr>\n",
       "    <tr>\n",
       "      <th>4</th>\n",
       "      <td>78</td>\n",
       "      <td>B004X2KR36</td>\n",
       "      <td>A2AB7M9UCNBVN7</td>\n",
       "      <td>sharonh4</td>\n",
       "      <td>0/0</td>\n",
       "      <td>1346976000</td>\n",
       "      <td>Order only in cold weather</td>\n",
       "      <td>The taste was great, but the berries had melte...</td>\n",
       "      <td>taste great berry melted may order winter orde...</td>\n",
       "      <td>high</td>\n",
       "      <td>0.200000</td>\n",
       "    </tr>\n",
       "    <tr>\n",
       "      <th>...</th>\n",
       "      <td>...</td>\n",
       "      <td>...</td>\n",
       "      <td>...</td>\n",
       "      <td>...</td>\n",
       "      <td>...</td>\n",
       "      <td>...</td>\n",
       "      <td>...</td>\n",
       "      <td>...</td>\n",
       "      <td>...</td>\n",
       "      <td>...</td>\n",
       "      <td>...</td>\n",
       "    </tr>\n",
       "    <tr>\n",
       "      <th>4995</th>\n",
       "      <td>55839</td>\n",
       "      <td>B000GZY8FC</td>\n",
       "      <td>A2CDFOO1GZ0VTO</td>\n",
       "      <td>Rita \"Rita\"</td>\n",
       "      <td>4/4</td>\n",
       "      <td>1268006400</td>\n",
       "      <td>Wonderful Poppyseed Cakes</td>\n",
       "      <td>This filling is wonderful and a good value ove...</td>\n",
       "      <td>filling wonderful good value buying grocery st...</td>\n",
       "      <td>high</td>\n",
       "      <td>0.675000</td>\n",
       "    </tr>\n",
       "    <tr>\n",
       "      <th>4996</th>\n",
       "      <td>55848</td>\n",
       "      <td>B000GZY8FC</td>\n",
       "      <td>AYS9AV8EVGOSX</td>\n",
       "      <td>Hella Slomnicki \"baker\"</td>\n",
       "      <td>0/0</td>\n",
       "      <td>1234396800</td>\n",
       "      <td>Solo Poppyseed Filling</td>\n",
       "      <td>I have been using the poppyseed filling for ye...</td>\n",
       "      <td>using poppyseed filling year pleased get deliv...</td>\n",
       "      <td>high</td>\n",
       "      <td>0.500000</td>\n",
       "    </tr>\n",
       "    <tr>\n",
       "      <th>4997</th>\n",
       "      <td>55851</td>\n",
       "      <td>B000GZY8FC</td>\n",
       "      <td>A1IX5D2OQU62UK</td>\n",
       "      <td>Olya \"OK.\"</td>\n",
       "      <td>2/4</td>\n",
       "      <td>1241136000</td>\n",
       "      <td>Poppy Seed Pie Filling</td>\n",
       "      <td>Too sweet for my taste... I had to add egg yol...</td>\n",
       "      <td>sweet taste add egg yolk dry poppy seed milk m...</td>\n",
       "      <td>high</td>\n",
       "      <td>0.211111</td>\n",
       "    </tr>\n",
       "    <tr>\n",
       "      <th>4998</th>\n",
       "      <td>55894</td>\n",
       "      <td>B002Y2QTNO</td>\n",
       "      <td>AO5G2L4IS9GRQ</td>\n",
       "      <td>Preemie Mommy</td>\n",
       "      <td>0/0</td>\n",
       "      <td>1326240000</td>\n",
       "      <td>Not good for strong coffee lovers</td>\n",
       "      <td>I like my coffee strong, but if you use a heap...</td>\n",
       "      <td>like coffee strong use heaping scoop per two c...</td>\n",
       "      <td>low</td>\n",
       "      <td>0.020833</td>\n",
       "    </tr>\n",
       "    <tr>\n",
       "      <th>4999</th>\n",
       "      <td>55912</td>\n",
       "      <td>B003EX2ECM</td>\n",
       "      <td>A1A0Y9E3GK5O3Z</td>\n",
       "      <td>dustin michael remsing</td>\n",
       "      <td>2/3</td>\n",
       "      <td>1327104000</td>\n",
       "      <td>people need to learn</td>\n",
       "      <td>This is a fantastic product. It seems those of...</td>\n",
       "      <td>fantastic product seems u professional busines...</td>\n",
       "      <td>high</td>\n",
       "      <td>0.078571</td>\n",
       "    </tr>\n",
       "  </tbody>\n",
       "</table>\n",
       "<p>5000 rows × 11 columns</p>\n",
       "</div>"
      ],
      "text/plain": [
       "      reviewID   productID          userId              profileName  \\\n",
       "0            0  B001E4KFG0  A3SGXH7AUHU8GW               delmartian   \n",
       "1           20  B001GVISJM  A1WO0KGLPR5PV6                 mom2emma   \n",
       "2           49  B001EO5QW8  A276999Y6VRSCQ                     JMay   \n",
       "3           50  B001EO5QW8  A108P30XVUFKXY                Roberto A   \n",
       "4           78  B004X2KR36  A2AB7M9UCNBVN7                 sharonh4   \n",
       "...        ...         ...             ...                      ...   \n",
       "4995     55839  B000GZY8FC  A2CDFOO1GZ0VTO              Rita \"Rita\"   \n",
       "4996     55848  B000GZY8FC   AYS9AV8EVGOSX  Hella Slomnicki \"baker\"   \n",
       "4997     55851  B000GZY8FC  A1IX5D2OQU62UK               Olya \"OK.\"   \n",
       "4998     55894  B002Y2QTNO   AO5G2L4IS9GRQ            Preemie Mommy   \n",
       "4999     55912  B003EX2ECM  A1A0Y9E3GK5O3Z   dustin michael remsing   \n",
       "\n",
       "     helpfulness        time                            summary  \\\n",
       "0            1/1  1303862400              Good Quality Dog Food   \n",
       "1            0/0  1313452800                       Always fresh   \n",
       "2            0/1  1334016000                         Same stuff   \n",
       "3            0/7  1203379200                      Don't like it   \n",
       "4            0/0  1346976000         Order only in cold weather   \n",
       "...          ...         ...                                ...   \n",
       "4995         4/4  1268006400          Wonderful Poppyseed Cakes   \n",
       "4996         0/0  1234396800             Solo Poppyseed Filling   \n",
       "4997         2/4  1241136000             Poppy Seed Pie Filling   \n",
       "4998         0/0  1326240000  Not good for strong coffee lovers   \n",
       "4999         2/3  1327104000               people need to learn   \n",
       "\n",
       "                                                   text  \\\n",
       "0     I have bought several of the Vitality canned d...   \n",
       "1     My husband is a Twizzlers addict.  We've bough...   \n",
       "2     This is the same stuff you can buy at the big ...   \n",
       "3     This oatmeal is not good. Its mushy, soft, I d...   \n",
       "4     The taste was great, but the berries had melte...   \n",
       "...                                                 ...   \n",
       "4995  This filling is wonderful and a good value ove...   \n",
       "4996  I have been using the poppyseed filling for ye...   \n",
       "4997  Too sweet for my taste... I had to add egg yol...   \n",
       "4998  I like my coffee strong, but if you use a heap...   \n",
       "4999  This is a fantastic product. It seems those of...   \n",
       "\n",
       "                                              cleantext score_level  sentiment  \n",
       "0     bought several vitality canned dog food produc...        high   0.425000  \n",
       "1     husband twizzlers addict weve bought many time...        high   0.400000  \n",
       "2     stuff buy big box store nothing healthy carbs ...         low   0.066667  \n",
       "3     oatmeal good mushy soft dont like quaker oat w...         low   0.400000  \n",
       "4     taste great berry melted may order winter orde...        high   0.200000  \n",
       "...                                                 ...         ...        ...  \n",
       "4995  filling wonderful good value buying grocery st...        high   0.675000  \n",
       "4996  using poppyseed filling year pleased get deliv...        high   0.500000  \n",
       "4997  sweet taste add egg yolk dry poppy seed milk m...        high   0.211111  \n",
       "4998  like coffee strong use heaping scoop per two c...         low   0.020833  \n",
       "4999  fantastic product seems u professional busines...        high   0.078571  \n",
       "\n",
       "[5000 rows x 11 columns]"
      ]
     },
     "execution_count": 40,
     "metadata": {},
     "output_type": "execute_result"
    }
   ],
   "source": [
    "df"
   ]
  },
  {
   "cell_type": "code",
   "execution_count": 41,
   "id": "5f44e2f5",
   "metadata": {},
   "outputs": [
    {
     "data": {
      "text/html": [
       "<div>\n",
       "<style scoped>\n",
       "    .dataframe tbody tr th:only-of-type {\n",
       "        vertical-align: middle;\n",
       "    }\n",
       "\n",
       "    .dataframe tbody tr th {\n",
       "        vertical-align: top;\n",
       "    }\n",
       "\n",
       "    .dataframe thead th {\n",
       "        text-align: right;\n",
       "    }\n",
       "</style>\n",
       "<table border=\"1\" class=\"dataframe\">\n",
       "  <thead>\n",
       "    <tr style=\"text-align: right;\">\n",
       "      <th></th>\n",
       "      <th>reviewID</th>\n",
       "      <th>productID</th>\n",
       "      <th>userId</th>\n",
       "      <th>profileName</th>\n",
       "      <th>helpfulness</th>\n",
       "      <th>time</th>\n",
       "      <th>summary</th>\n",
       "      <th>text</th>\n",
       "      <th>cleantext</th>\n",
       "      <th>score_level</th>\n",
       "      <th>sentiment</th>\n",
       "      <th>vader</th>\n",
       "    </tr>\n",
       "  </thead>\n",
       "  <tbody>\n",
       "    <tr>\n",
       "      <th>0</th>\n",
       "      <td>0</td>\n",
       "      <td>B001E4KFG0</td>\n",
       "      <td>A3SGXH7AUHU8GW</td>\n",
       "      <td>delmartian</td>\n",
       "      <td>1/1</td>\n",
       "      <td>1303862400</td>\n",
       "      <td>Good Quality Dog Food</td>\n",
       "      <td>I have bought several of the Vitality canned d...</td>\n",
       "      <td>bought several vitality canned dog food produc...</td>\n",
       "      <td>high</td>\n",
       "      <td>0.425000</td>\n",
       "      <td>0.9441</td>\n",
       "    </tr>\n",
       "    <tr>\n",
       "      <th>1</th>\n",
       "      <td>20</td>\n",
       "      <td>B001GVISJM</td>\n",
       "      <td>A1WO0KGLPR5PV6</td>\n",
       "      <td>mom2emma</td>\n",
       "      <td>0/0</td>\n",
       "      <td>1313452800</td>\n",
       "      <td>Always fresh</td>\n",
       "      <td>My husband is a Twizzlers addict.  We've bough...</td>\n",
       "      <td>husband twizzlers addict weve bought many time...</td>\n",
       "      <td>high</td>\n",
       "      <td>0.400000</td>\n",
       "      <td>0.6249</td>\n",
       "    </tr>\n",
       "    <tr>\n",
       "      <th>2</th>\n",
       "      <td>49</td>\n",
       "      <td>B001EO5QW8</td>\n",
       "      <td>A276999Y6VRSCQ</td>\n",
       "      <td>JMay</td>\n",
       "      <td>0/1</td>\n",
       "      <td>1334016000</td>\n",
       "      <td>Same stuff</td>\n",
       "      <td>This is the same stuff you can buy at the big ...</td>\n",
       "      <td>stuff buy big box store nothing healthy carbs ...</td>\n",
       "      <td>low</td>\n",
       "      <td>0.066667</td>\n",
       "      <td>0.2363</td>\n",
       "    </tr>\n",
       "    <tr>\n",
       "      <th>3</th>\n",
       "      <td>50</td>\n",
       "      <td>B001EO5QW8</td>\n",
       "      <td>A108P30XVUFKXY</td>\n",
       "      <td>Roberto A</td>\n",
       "      <td>0/7</td>\n",
       "      <td>1203379200</td>\n",
       "      <td>Don't like it</td>\n",
       "      <td>This oatmeal is not good. Its mushy, soft, I d...</td>\n",
       "      <td>oatmeal good mushy soft dont like quaker oat w...</td>\n",
       "      <td>low</td>\n",
       "      <td>0.400000</td>\n",
       "      <td>-0.5448</td>\n",
       "    </tr>\n",
       "    <tr>\n",
       "      <th>4</th>\n",
       "      <td>78</td>\n",
       "      <td>B004X2KR36</td>\n",
       "      <td>A2AB7M9UCNBVN7</td>\n",
       "      <td>sharonh4</td>\n",
       "      <td>0/0</td>\n",
       "      <td>1346976000</td>\n",
       "      <td>Order only in cold weather</td>\n",
       "      <td>The taste was great, but the berries had melte...</td>\n",
       "      <td>taste great berry melted may order winter orde...</td>\n",
       "      <td>high</td>\n",
       "      <td>0.200000</td>\n",
       "      <td>0.7814</td>\n",
       "    </tr>\n",
       "    <tr>\n",
       "      <th>...</th>\n",
       "      <td>...</td>\n",
       "      <td>...</td>\n",
       "      <td>...</td>\n",
       "      <td>...</td>\n",
       "      <td>...</td>\n",
       "      <td>...</td>\n",
       "      <td>...</td>\n",
       "      <td>...</td>\n",
       "      <td>...</td>\n",
       "      <td>...</td>\n",
       "      <td>...</td>\n",
       "      <td>...</td>\n",
       "    </tr>\n",
       "    <tr>\n",
       "      <th>4995</th>\n",
       "      <td>55839</td>\n",
       "      <td>B000GZY8FC</td>\n",
       "      <td>A2CDFOO1GZ0VTO</td>\n",
       "      <td>Rita \"Rita\"</td>\n",
       "      <td>4/4</td>\n",
       "      <td>1268006400</td>\n",
       "      <td>Wonderful Poppyseed Cakes</td>\n",
       "      <td>This filling is wonderful and a good value ove...</td>\n",
       "      <td>filling wonderful good value buying grocery st...</td>\n",
       "      <td>high</td>\n",
       "      <td>0.675000</td>\n",
       "      <td>0.9184</td>\n",
       "    </tr>\n",
       "    <tr>\n",
       "      <th>4996</th>\n",
       "      <td>55848</td>\n",
       "      <td>B000GZY8FC</td>\n",
       "      <td>AYS9AV8EVGOSX</td>\n",
       "      <td>Hella Slomnicki \"baker\"</td>\n",
       "      <td>0/0</td>\n",
       "      <td>1234396800</td>\n",
       "      <td>Solo Poppyseed Filling</td>\n",
       "      <td>I have been using the poppyseed filling for ye...</td>\n",
       "      <td>using poppyseed filling year pleased get deliv...</td>\n",
       "      <td>high</td>\n",
       "      <td>0.500000</td>\n",
       "      <td>0.4404</td>\n",
       "    </tr>\n",
       "    <tr>\n",
       "      <th>4997</th>\n",
       "      <td>55851</td>\n",
       "      <td>B000GZY8FC</td>\n",
       "      <td>A1IX5D2OQU62UK</td>\n",
       "      <td>Olya \"OK.\"</td>\n",
       "      <td>2/4</td>\n",
       "      <td>1241136000</td>\n",
       "      <td>Poppy Seed Pie Filling</td>\n",
       "      <td>Too sweet for my taste... I had to add egg yol...</td>\n",
       "      <td>sweet taste add egg yolk dry poppy seed milk m...</td>\n",
       "      <td>high</td>\n",
       "      <td>0.211111</td>\n",
       "      <td>0.6915</td>\n",
       "    </tr>\n",
       "    <tr>\n",
       "      <th>4998</th>\n",
       "      <td>55894</td>\n",
       "      <td>B002Y2QTNO</td>\n",
       "      <td>AO5G2L4IS9GRQ</td>\n",
       "      <td>Preemie Mommy</td>\n",
       "      <td>0/0</td>\n",
       "      <td>1326240000</td>\n",
       "      <td>Not good for strong coffee lovers</td>\n",
       "      <td>I like my coffee strong, but if you use a heap...</td>\n",
       "      <td>like coffee strong use heaping scoop per two c...</td>\n",
       "      <td>low</td>\n",
       "      <td>0.020833</td>\n",
       "      <td>-0.9009</td>\n",
       "    </tr>\n",
       "    <tr>\n",
       "      <th>4999</th>\n",
       "      <td>55912</td>\n",
       "      <td>B003EX2ECM</td>\n",
       "      <td>A1A0Y9E3GK5O3Z</td>\n",
       "      <td>dustin michael remsing</td>\n",
       "      <td>2/3</td>\n",
       "      <td>1327104000</td>\n",
       "      <td>people need to learn</td>\n",
       "      <td>This is a fantastic product. It seems those of...</td>\n",
       "      <td>fantastic product seems u professional busines...</td>\n",
       "      <td>high</td>\n",
       "      <td>0.078571</td>\n",
       "      <td>-0.2023</td>\n",
       "    </tr>\n",
       "  </tbody>\n",
       "</table>\n",
       "<p>5000 rows × 12 columns</p>\n",
       "</div>"
      ],
      "text/plain": [
       "      reviewID   productID          userId              profileName  \\\n",
       "0            0  B001E4KFG0  A3SGXH7AUHU8GW               delmartian   \n",
       "1           20  B001GVISJM  A1WO0KGLPR5PV6                 mom2emma   \n",
       "2           49  B001EO5QW8  A276999Y6VRSCQ                     JMay   \n",
       "3           50  B001EO5QW8  A108P30XVUFKXY                Roberto A   \n",
       "4           78  B004X2KR36  A2AB7M9UCNBVN7                 sharonh4   \n",
       "...        ...         ...             ...                      ...   \n",
       "4995     55839  B000GZY8FC  A2CDFOO1GZ0VTO              Rita \"Rita\"   \n",
       "4996     55848  B000GZY8FC   AYS9AV8EVGOSX  Hella Slomnicki \"baker\"   \n",
       "4997     55851  B000GZY8FC  A1IX5D2OQU62UK               Olya \"OK.\"   \n",
       "4998     55894  B002Y2QTNO   AO5G2L4IS9GRQ            Preemie Mommy   \n",
       "4999     55912  B003EX2ECM  A1A0Y9E3GK5O3Z   dustin michael remsing   \n",
       "\n",
       "     helpfulness        time                            summary  \\\n",
       "0            1/1  1303862400              Good Quality Dog Food   \n",
       "1            0/0  1313452800                       Always fresh   \n",
       "2            0/1  1334016000                         Same stuff   \n",
       "3            0/7  1203379200                      Don't like it   \n",
       "4            0/0  1346976000         Order only in cold weather   \n",
       "...          ...         ...                                ...   \n",
       "4995         4/4  1268006400          Wonderful Poppyseed Cakes   \n",
       "4996         0/0  1234396800             Solo Poppyseed Filling   \n",
       "4997         2/4  1241136000             Poppy Seed Pie Filling   \n",
       "4998         0/0  1326240000  Not good for strong coffee lovers   \n",
       "4999         2/3  1327104000               people need to learn   \n",
       "\n",
       "                                                   text  \\\n",
       "0     I have bought several of the Vitality canned d...   \n",
       "1     My husband is a Twizzlers addict.  We've bough...   \n",
       "2     This is the same stuff you can buy at the big ...   \n",
       "3     This oatmeal is not good. Its mushy, soft, I d...   \n",
       "4     The taste was great, but the berries had melte...   \n",
       "...                                                 ...   \n",
       "4995  This filling is wonderful and a good value ove...   \n",
       "4996  I have been using the poppyseed filling for ye...   \n",
       "4997  Too sweet for my taste... I had to add egg yol...   \n",
       "4998  I like my coffee strong, but if you use a heap...   \n",
       "4999  This is a fantastic product. It seems those of...   \n",
       "\n",
       "                                              cleantext score_level  \\\n",
       "0     bought several vitality canned dog food produc...        high   \n",
       "1     husband twizzlers addict weve bought many time...        high   \n",
       "2     stuff buy big box store nothing healthy carbs ...         low   \n",
       "3     oatmeal good mushy soft dont like quaker oat w...         low   \n",
       "4     taste great berry melted may order winter orde...        high   \n",
       "...                                                 ...         ...   \n",
       "4995  filling wonderful good value buying grocery st...        high   \n",
       "4996  using poppyseed filling year pleased get deliv...        high   \n",
       "4997  sweet taste add egg yolk dry poppy seed milk m...        high   \n",
       "4998  like coffee strong use heaping scoop per two c...         low   \n",
       "4999  fantastic product seems u professional busines...        high   \n",
       "\n",
       "      sentiment   vader  \n",
       "0      0.425000  0.9441  \n",
       "1      0.400000  0.6249  \n",
       "2      0.066667  0.2363  \n",
       "3      0.400000 -0.5448  \n",
       "4      0.200000  0.7814  \n",
       "...         ...     ...  \n",
       "4995   0.675000  0.9184  \n",
       "4996   0.500000  0.4404  \n",
       "4997   0.211111  0.6915  \n",
       "4998   0.020833 -0.9009  \n",
       "4999   0.078571 -0.2023  \n",
       "\n",
       "[5000 rows x 12 columns]"
      ]
     },
     "execution_count": 41,
     "metadata": {},
     "output_type": "execute_result"
    }
   ],
   "source": [
    "\n",
    "\n",
    "from vaderSentiment.vaderSentiment import SentimentIntensityAnalyzer\n",
    "\n",
    "analyzer = SentimentIntensityAnalyzer()\n",
    "\n",
    "def vader_calc(text):\n",
    "    try:\n",
    "        return analyzer.polarity_scores(text)['compound']\n",
    "    \n",
    "    except:\n",
    "        return None\n",
    "\n",
    "df['vader'] = df['text'].apply(vader_calc)\n",
    "\n",
    "df"
   ]
  },
  {
   "cell_type": "code",
   "execution_count": 43,
   "id": "1b5e2cb3",
   "metadata": {},
   "outputs": [
    {
     "name": "stdout",
     "output_type": "stream",
     "text": [
      "score_level\n",
      "high      0.297245\n",
      "low       0.039027\n",
      "medium    0.176921\n",
      "Name: sentiment, dtype: float64\n",
      "score_level\n",
      "high      0.207697\n",
      "low       0.240332\n",
      "medium    0.169371\n",
      "Name: sentiment, dtype: float64\n"
     ]
    }
   ],
   "source": [
    "print(df.groupby('score_level')['sentiment'].mean())\n",
    "print(df.groupby('score_level')['sentiment'].std())"
   ]
  },
  {
   "cell_type": "code",
   "execution_count": 44,
   "id": "d5e836ba",
   "metadata": {},
   "outputs": [
    {
     "name": "stdout",
     "output_type": "stream",
     "text": [
      "score_level\n",
      "high      0.771778\n",
      "low       0.100336\n",
      "medium    0.524769\n",
      "Name: vader, dtype: float64\n",
      "score_level\n",
      "high      0.324373\n",
      "low       0.631709\n",
      "medium    0.500528\n",
      "Name: vader, dtype: float64\n"
     ]
    }
   ],
   "source": [
    "print(df.groupby('score_level')['vader'].mean())\n",
    "print(df.groupby('score_level')['vader'].std())"
   ]
  },
  {
   "cell_type": "code",
   "execution_count": null,
   "id": "76c33c58",
   "metadata": {},
   "outputs": [],
   "source": [
    "#COnvert to csv data\n",
    "\n",
    "df.to_csv('C:/Users/jelee/MIS/Amazon_submission.csv')"
   ]
  }
 ],
 "metadata": {
  "kernelspec": {
   "display_name": "Python 3",
   "language": "python",
   "name": "python3"
  },
  "language_info": {
   "codemirror_mode": {
    "name": "ipython",
    "version": 3
   },
   "file_extension": ".py",
   "mimetype": "text/x-python",
   "name": "python",
   "nbconvert_exporter": "python",
   "pygments_lexer": "ipython3",
   "version": "3.8.8"
  }
 },
 "nbformat": 4,
 "nbformat_minor": 5
}
